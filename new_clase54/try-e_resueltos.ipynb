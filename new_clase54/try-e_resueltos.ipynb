{
 "cells": [
  {
   "cell_type": "markdown",
   "id": "9fbbe553-4bbb-49a9-8169-dcba7d5d5080",
   "metadata": {},
   "source": [
    "# Igual que en los ejercicios anteriores debes explicar que hace cada código resuelto.  "
   ]
  },
  {
   "cell_type": "markdown",
   "id": "103008fb-f49d-4766-957c-b63e2e4aeef8",
   "metadata": {},
   "source": [
    "1 - Localiza el error en el siguiente bloque de código. Crea una excepción para evitar que el programa se bloquee y además explica en un mensaje al usuario la causa y/o solución:"
   ]
  },
  {
   "cell_type": "markdown",
   "id": "e2cd389e-f842-4ac2-b288-d7a816b8da93",
   "metadata": {},
   "source": [
    "`resultado = 10/0`"
   ]
  },
  {
   "cell_type": "code",
   "execution_count": 9,
   "id": "270cb401-d6f7-4cc8-b0f5-dbf48e38267f",
   "metadata": {},
   "outputs": [
    {
     "ename": "ZeroDivisionError",
     "evalue": "division by zero",
     "output_type": "error",
     "traceback": [
      "\u001b[1;31m---------------------------------------------------------------------------\u001b[0m",
      "\u001b[1;31mZeroDivisionError\u001b[0m                         Traceback (most recent call last)",
      "Cell \u001b[1;32mIn[9], line 1\u001b[0m\n\u001b[1;32m----> 1\u001b[0m resultado \u001b[38;5;241m=\u001b[39m \u001b[38;5;241;43m10\u001b[39;49m\u001b[38;5;241;43m/\u001b[39;49m\u001b[38;5;241;43m0\u001b[39;49m\n",
      "\u001b[1;31mZeroDivisionError\u001b[0m: division by zero"
     ]
    }
   ],
   "source": [
    "resultado = 10/0"
   ]
  },
  {
   "cell_type": "markdown",
   "id": "0ffe54bd",
   "metadata": {},
   "source": [
    "# El código resultado = 10/0 intenta realizar una división entre 10 y 0. En la mayoría de los lenguajes de programación, incluido Python, esto resulta en un error porque la división por cero no está definida matemáticamente. Aquí hay una explicación más detallada:\n",
    "\n",
    "Operación: 10/0 es una operación de división.\n",
    "Dividendo: El número que se está dividiendo, en este caso, 10.\n",
    "Divisor: El número por el cual se divide, en este caso, 0.\n",
    "Cuando se intenta dividir cualquier número por cero, no se puede obtener un resultado finito. Matemáticamente, la división por cero es indefinida porque no hay un número que multiplicado por cero dé como resultado el dividendo.\n",
    "\n",
    "En Python, intentar ejecutar resultado = 10/0 produce una excepción llamada ZeroDivisionError. Este error detiene la ejecución del programa a menos que sea manejado adecuadamente usando un bloque try...except. A continuación, un ejemplo de cómo manejar este error:\n",
    "try:\n",
    "    resultado = 10 / 0\n",
    "except ZeroDivisionError:\n",
    "    print(\"Error: División por cero no es posible.\")\n",
    "En este ejemplo, se intenta realizar la división dentro de un bloque try. Si ocurre un ZeroDivisionError, el flujo de ejecución salta al bloque except donde se maneja el error imprimiendo un mensaje adecuado."
   ]
  },
  {
   "cell_type": "markdown",
   "id": "e624c0e5",
   "metadata": {},
   "source": []
  },
  {
   "cell_type": "code",
   "execution_count": null,
   "id": "385e648e-f995-4895-824d-59d36a7ca9a1",
   "metadata": {},
   "outputs": [
    {
     "name": "stdout",
     "output_type": "stream",
     "text": [
      "Error: No es posible dividir por cero, debes introducir un numero distinto de cero\n"
     ]
    }
   ],
   "source": [
    "try:\n",
    "    resultado = 10/0\n",
    "except ZeroDivisionError:\n",
    "    print('Error: No es posible dividir por cero, debes introducir un numero distinto de cero')"
   ]
  },
  {
   "cell_type": "markdown",
   "id": "287bd289",
   "metadata": {},
   "source": [
    "# try:\n",
    "\n",
    "Este es el inicio de un bloque try. Dentro de este bloque, se coloca el código que podría potencialmente causar una excepción (un error en tiempo de ejecución). En este caso, la línea siguiente intenta realizar una operación que se sabe puede fallar.\n",
    "resultado = 10 / 0\n",
    "\n",
    "Aquí se intenta realizar una división de 10 por 0. Como la división por cero no está definida en matemáticas y no puede ser ejecutada por Python, esto generará una excepción llamada ZeroDivisionError.\n",
    "except ZeroDivisionError:\n",
    "\n",
    "Este es el inicio de un bloque except que captura específicamente las excepciones del tipo ZeroDivisionError. Si ocurre un ZeroDivisionError en el bloque try, el control del programa pasa a este bloque.\n",
    "print('Error: No es posible dividir por cero, debes introducir un número distinto de cero')\n",
    "\n",
    "Dentro del bloque except, se ejecuta esta línea, que imprime un mensaje de error al usuario indicando que la división por cero no es posible y sugiriendo que se debe introducir un número distinto de cero.\n",
    "La estructura general del código es un ejemplo de manejo de excepciones en Python, lo cual es una forma de manejar errores que pueden ocurrir durante la ejecución de un programa sin detener abruptamente el programa.\n",
    "\n",
    "¿Por qué es útil este enfoque?\n",
    "Previene la interrupción del programa: Si no se maneja la excepción, el programa se detendría abruptamente al intentar realizar la división por cero.\n",
    "Mejora la experiencia del usuario: Proporciona un mensaje de error amigable que puede guiar al usuario a corregir su entrada.\n",
    "Mantiene el flujo del programa: Permite al programa continuar ejecutándose o tomar acciones correctivas en lugar de fallar completamente."
   ]
  },
  {
   "cell_type": "markdown",
   "id": "215ff42a-63f3-4dde-8ddb-3253abdd0d89",
   "metadata": {},
   "source": [
    "2 - Localiza el error en el siguiente bloque de código. Crea una excepción para evitar que el programa se bloquee y además explica en un mensaje al usuario la causa y/o solución:"
   ]
  },
  {
   "cell_type": "markdown",
   "id": "0bdbce5a-4bef-4827-9d4a-1e54f45e4ace",
   "metadata": {},
   "source": [
    "```\n",
    "lista = [1, 2, 3, 4, 5]\n",
    "lista[10]\n",
    "```"
   ]
  },
  {
   "cell_type": "code",
   "execution_count": null,
   "id": "7539d909-198f-4aac-86cf-1d7eee9117dc",
   "metadata": {},
   "outputs": [
    {
     "ename": "IndexError",
     "evalue": "list index out of range",
     "output_type": "error",
     "traceback": [
      "\u001b[1;31m---------------------------------------------------------------------------\u001b[0m",
      "\u001b[1;31mIndexError\u001b[0m                                Traceback (most recent call last)",
      "Cell \u001b[1;32mIn[1], line 2\u001b[0m\n\u001b[0;32m      1\u001b[0m lista \u001b[38;5;241m=\u001b[39m [\u001b[38;5;241m1\u001b[39m, \u001b[38;5;241m2\u001b[39m, \u001b[38;5;241m3\u001b[39m, \u001b[38;5;241m4\u001b[39m, \u001b[38;5;241m5\u001b[39m]\n\u001b[1;32m----> 2\u001b[0m \u001b[43mlista\u001b[49m\u001b[43m[\u001b[49m\u001b[38;5;241;43m10\u001b[39;49m\u001b[43m]\u001b[49m\n",
      "\u001b[1;31mIndexError\u001b[0m: list index out of range"
     ]
    }
   ],
   "source": [
    "lista = [1, 2, 3, 4, 5]\n",
    "lista[10]"
   ]
  },
  {
   "cell_type": "markdown",
   "id": "3aa2d052",
   "metadata": {},
   "source": [
    "# lista = [1, 2, 3, 4, 5]\n",
    "\n",
    "Aquí se define una lista llamada lista que contiene cinco elementos: [1, 2, 3, 4, 5].\n",
    "lista[10]\n",
    "\n",
    "Esta línea intenta acceder al elemento en el índice 10 de la lista lista.\n",
    "Para entender por qué este código genera un error, es importante revisar cómo funcionan los índices en las listas en Python:\n",
    "\n",
    "En Python, los índices de las listas comienzan en 0. Esto significa que el primer elemento de la lista tiene el índice 0, el segundo elemento tiene el índice 1, y así sucesivamente.\n",
    "Para la lista lista = [1, 2, 3, 4, 5], los índices válidos son 0, 1, 2, 3 y 4. Cualquier índice fuera de este rango causará un error.\n",
    "Error generado\n",
    "Intentar acceder a lista[10] resulta en un error llamado IndexError, específicamente:\n",
    "\n",
    "\n",
    "IndexError: list index out of range\n",
    "Explicación del IndexError\n",
    "IndexError: Este error ocurre cuando se intenta acceder a un índice que no existe en la lista. En este caso, se está intentando acceder al índice 10, pero la lista solo tiene 5 elementos (con índices que van del 0 al 4).\n",
    "Manejo del error\n",
    "Para manejar este error y evitar que el programa se detenga abruptamente, puedes usar un bloque try...except similar al que vimos anteriormente. Aquí tienes un ejemplo de cómo hacerlo:\n",
    "\n",
    "\n",
    "lista = [1, 2, 3, 4, 5]\n",
    "\n",
    "try:\n",
    "    elemento = lista[10]\n",
    "    print(f\"El elemento en el índice 10 es {elemento}\")\n",
    "except IndexError:\n",
    "    print(\"Error: El índice 10 está fuera del rango de la lista.\")\n",
    "Explicación del código de manejo de errores\n",
    "Definición de la lista: lista = [1, 2, 3, 4, 5]\n",
    "Bloque try:\n",
    "Intenta acceder al índice 10 con elemento = lista[10].\n",
    "Si el acceso es exitoso, se imprime el elemento.\n",
    "Bloque except:\n",
    "Si ocurre un IndexError, se captura y se imprime un mensaje indicando que el índice 10 está fuera del rango de la lista.\n",
    "Consideraciones\n",
    "Validación del índice: Antes de acceder a un índice en una lista, es una buena práctica validar que el índice esté dentro del rango válido de la lista. Por ejemplo:\n",
    "\n",
    "\n",
    "indice = 10\n",
    "if 0 <= indice < len(lista):\n",
    "    elemento = lista[indice]\n",
    "    print(f\"El elemento en el índice {indice} es {elemento}\")\n",
    "else:\n",
    "    print(f\"Error: El índice {indice} está fuera del rango de la lista.\")\n",
    "Este enfoque garantiza que solo se intentará acceder a índices válidos, evitando así el IndexError."
   ]
  },
  {
   "cell_type": "markdown",
   "id": "0c36bc38",
   "metadata": {},
   "source": [
    "# CÓDIGO CORREGIDO "
   ]
  },
  {
   "cell_type": "code",
   "execution_count": null,
   "id": "2b8a02e3",
   "metadata": {},
   "outputs": [
    {
     "name": "stdout",
     "output_type": "stream",
     "text": [
      "Error: El índice 10 está fuera del rango de la lista.\n"
     ]
    }
   ],
   "source": [
    "lista = [1, 2, 3, 4, 5]\n",
    "indice = 10\n",
    "\n",
    "if 0 <= indice < len(lista):\n",
    "    elemento = lista[indice]\n",
    "    print(f\"El elemento en el índice {indice} es {elemento}\")\n",
    "else:\n",
    "    print(f\"Error: El índice {indice} está fuera del rango de la lista.\")\n"
   ]
  },
  {
   "cell_type": "code",
   "execution_count": null,
   "id": "58fce99f-09e5-4450-a7ec-4a5171785621",
   "metadata": {},
   "outputs": [
    {
     "name": "stdout",
     "output_type": "stream",
     "text": [
      "Error: El indice al que intentas acceder se encuentra fuera de rango.     Debes utilizar un número mayor o igual que cero y menor que la longitud de la lista 5\n"
     ]
    }
   ],
   "source": [
    "lista = [1, 2, 3, 4, 5]\n",
    "try:\n",
    "    lista[10]\n",
    "except IndexError:\n",
    "    print('Error: El indice al que intentas acceder se encuentra fuera de rango. \\\n",
    "    Debes utilizar un número mayor o igual que cero y menor que la longitud de la lista', len(lista))"
   ]
  },
  {
   "cell_type": "markdown",
   "id": "899cc53b",
   "metadata": {},
   "source": [
    "# Lista:\n",
    "\n",
    "El código comienza definiendo una lista llamada lista que contiene los valores numéricos del 1 al 5. Las listas en Python son colecciones ordenadas de elementos que se pueden acceder mediante índices. El primer elemento de la lista tiene el índice 0, el segundo el índice 1, y así sucesivamente.\n",
    "\n",
    "Bloque try-except:\n",
    "\n",
    "El bloque try-except se utiliza para manejar errores en Python. El código dentro del bloque try se ejecuta normalmente, y si se produce un error, el código dentro del bloque except se ejecuta en su lugar.\n",
    "\n",
    "En este caso, el código dentro del bloque try intenta acceder al elemento en el índice 10 de la lista. Sin embargo, la lista solo tiene 5 elementos, por lo que se producirá un error IndexError.\n",
    "\n",
    "Manejo del error IndexError:\n",
    "\n",
    "El bloque except captura el error IndexError y ejecuta el código dentro de él. Este código imprime un mensaje de error que indica que el índice al que se intenta acceder está fuera de rango y proporciona instrucciones sobre cómo usar un índice válido.\n",
    "\n",
    "Explicación del mensaje de error:\n",
    "\n",
    "El mensaje de error indica lo siguiente:\n",
    "\n",
    "Error: Esta es una etiqueta que indica que se ha producido un error.\n",
    "El índice al que intentas acceder se encuentra fuera de rango. Esto significa que el índice proporcionado (10) es mayor que el número máximo de índices válidos en la lista (4).\n",
    "Debes utilizar un número mayor o igual que cero y menor que la longitud de la lista. Esto indica que el índice válido para una lista debe ser mayor o igual que 0 (que corresponde al primer elemento) y menor que la longitud de la lista. En este caso, la longitud de la lista es 5, por lo que los índices válidos van del 0 al 4."
   ]
  },
  {
   "cell_type": "markdown",
   "id": "0d31c433-055b-43db-b8ec-ed3698ce2d1a",
   "metadata": {},
   "source": [
    "3 - Localiza el error en el siguiente bloque de código. Crea una excepción para evitar que el programa se bloquee y además explica en un mensaje al usuario la causa y/o solución:"
   ]
  },
  {
   "cell_type": "markdown",
   "id": "56dbab26-bd8f-4b53-ac31-38664eec77ae",
   "metadata": {},
   "source": [
    "```\n",
    "colores = { 'rojo':'red', 'verde':'green', 'negro':'black' }\n",
    "colores['blanco']\n",
    "```"
   ]
  },
  {
   "cell_type": "markdown",
   "id": "66eae8b9-9b20-471b-b666-ca3cdbde65f3",
   "metadata": {},
   "source": [
    "Localizamos el error:"
   ]
  },
  {
   "cell_type": "code",
   "execution_count": null,
   "id": "b4a59421-c812-44f6-bac5-6cb524a9b455",
   "metadata": {},
   "outputs": [
    {
     "ename": "KeyError",
     "evalue": "'blanco'",
     "output_type": "error",
     "traceback": [
      "\u001b[1;31m---------------------------------------------------------------------------\u001b[0m",
      "\u001b[1;31mKeyError\u001b[0m                                  Traceback (most recent call last)",
      "Cell \u001b[1;32mIn[6], line 2\u001b[0m\n\u001b[0;32m      1\u001b[0m colores \u001b[38;5;241m=\u001b[39m { \u001b[38;5;124m'\u001b[39m\u001b[38;5;124mrojo\u001b[39m\u001b[38;5;124m'\u001b[39m:\u001b[38;5;124m'\u001b[39m\u001b[38;5;124mred\u001b[39m\u001b[38;5;124m'\u001b[39m, \u001b[38;5;124m'\u001b[39m\u001b[38;5;124mverde\u001b[39m\u001b[38;5;124m'\u001b[39m:\u001b[38;5;124m'\u001b[39m\u001b[38;5;124mgreen\u001b[39m\u001b[38;5;124m'\u001b[39m, \u001b[38;5;124m'\u001b[39m\u001b[38;5;124mnegro\u001b[39m\u001b[38;5;124m'\u001b[39m:\u001b[38;5;124m'\u001b[39m\u001b[38;5;124mblack\u001b[39m\u001b[38;5;124m'\u001b[39m }\n\u001b[1;32m----> 2\u001b[0m \u001b[43mcolores\u001b[49m\u001b[43m[\u001b[49m\u001b[38;5;124;43m'\u001b[39;49m\u001b[38;5;124;43mblanco\u001b[39;49m\u001b[38;5;124;43m'\u001b[39;49m\u001b[43m]\u001b[49m\n",
      "\u001b[1;31mKeyError\u001b[0m: 'blanco'"
     ]
    }
   ],
   "source": [
    "colores = { 'rojo':'red', 'verde':'green', 'negro':'black' }\n",
    "colores['blanco']"
   ]
  },
  {
   "cell_type": "markdown",
   "id": "9fc6d0fb",
   "metadata": {},
   "source": [
    "# Diccionario:\n",
    "\n",
    "El código define un diccionario llamado colores. Un diccionario en Python es una colección no ordenada de pares clave-valor. Las claves del diccionario son únicas y se utilizan para acceder a los valores correspondientes.\n",
    "\n",
    "En este caso, el diccionario colores contiene tres pares clave-valor:\n",
    "\n",
    "Clave: \"rojo\" - Valor: \"red\"\n",
    "Clave: \"verde\" - Valor: \"green\"\n",
    "Clave: \"negro\" - Valor: \"black\"\n",
    "Acceso a un valor:\n",
    "\n",
    "La última línea del código, colores['blanco'], intenta acceder al valor asociado con la clave \"blanco\" en el diccionario colores.\n",
    "\n",
    "Explicación del error:\n",
    "\n",
    "Sin embargo, la clave \"blanco\" no existe en el diccionario colores. Por lo tanto, se producirá un error KeyError.\n",
    "\n",
    "Manejo del error KeyError:\n",
    "\n",
    "Para manejar este tipo de error, se puede utilizar un bloque try-except similar al del ejemplo anterior. El bloque try intentaría acceder al valor, y el bloque except capturaría el error KeyError y proporcionaría un mensaje de error adecuado.\n",
    "\n",
    "Ejemplo de manejo de errores:\n",
    "\n",
    "Python\n",
    "colores = { 'rojo':'red', 'verde':'green', 'negro':'black' }\n",
    "\n",
    "try:\n",
    "  color = colores['blanco']\n",
    "  print(f\"El color de 'blanco' es: {color}\")\n",
    "except KeyError:\n",
    "  print(f\"La clave 'blanco' no existe en el diccionario.\")\n",
    "Usa el código con precaución.\n",
    "content_copy\n",
    "En este ejemplo, si la clave \"blanco\" existe en el diccionario, se imprimirá el valor correspondiente. De lo contrario, se imprimirá un mensaje que indica que la clave no existe.\n",
    "\n",
    "Resumen:\n",
    "\n",
    "Este código demuestra cómo acceder a valores en un diccionario en Python. Es importante tener en cuenta que si se intenta acceder a una clave que no existe en el diccionario, se producirá un error KeyError. Se puede utilizar un bloque try-except para manejar este tipo de error y proporcionar un mensaje de error informativo al usuario."
   ]
  },
  {
   "cell_type": "markdown",
   "id": "487e757b-c3e8-4d60-bd40-10ba5bedb392",
   "metadata": {},
   "source": [
    "El tipo de error es KeyError"
   ]
  },
  {
   "cell_type": "code",
   "execution_count": null,
   "id": "39ba8c6b-ddd2-45d3-8376-093847713661",
   "metadata": {},
   "outputs": [
    {
     "name": "stdout",
     "output_type": "stream",
     "text": [
      "No se encuentra la clave del diccionario\n"
     ]
    }
   ],
   "source": [
    "colores = { 'rojo':'red', 'verde':'green', 'negro':'black' }\n",
    "try:\n",
    "    pass\n",
    "    colores['blanco']\n",
    "except KeyError:\n",
    "    print('No se encuentra la clave del diccionario')"
   ]
  },
  {
   "cell_type": "markdown",
   "id": "4c8a49fb",
   "metadata": {},
   "source": [
    "# Diccionario:\n",
    "\n",
    "El código define un diccionario llamado colores. Un diccionario en Python es una colección no ordenada de pares clave-valor. Las claves del diccionario son únicas y se utilizan para acceder a los valores correspondientes.\n",
    "\n",
    "En este caso, el diccionario colores contiene tres pares clave-valor:\n",
    "\n",
    "Clave: \"rojo\" - Valor: \"red\"\n",
    "Clave: \"verde\" - Valor: \"green\"\n",
    "Clave: \"negro\" - Valor: \"black\"\n",
    "Bloque try-except:\n",
    "\n",
    "El bloque try-except se utiliza para manejar errores en Python. El código dentro del bloque try se ejecuta normalmente, y si se produce un error, el código dentro del bloque except se ejecuta en su lugar.\n",
    "\n",
    "Paso:\n",
    "\n",
    "La primera línea dentro del bloque try es la palabra clave pass. La palabra clave pass no realiza ninguna acción y se utiliza como marcador de posición para indicar que el bloque de código está vacío.\n",
    "\n",
    "Intento de acceso a la clave:\n",
    "\n",
    "La segunda línea dentro del bloque try intenta acceder al valor asociado con la clave \"blanco\" en el diccionario colores.\n",
    "\n",
    "Explicación del error:\n",
    "\n",
    "Sin embargo, la clave \"blanco\" no existe en el diccionario colores. Por lo tanto, se producirá un error KeyError.\n",
    "\n",
    "Manejo del error KeyError:\n",
    "\n",
    "El bloque except captura el error KeyError y ejecuta el código dentro de él. Este código imprime un mensaje simple que indica que \"No se encuentra la clave del diccionario\".\n",
    "\n",
    "Resumen:\n",
    "\n",
    "Este código demuestra un caso simple de uso del bloque try-except para manejar un error KeyError en Python. El bloque try contiene un pass porque el código que se intenta ejecutar es simplemente acceder a un valor en un diccionario. Si la clave existe, se accede al valor. Si la clave no existe, se produce un error KeyError y se ejecuta el bloque except, que imprime un mensaje de error simple.\n",
    "\n",
    "Posibles mejoras:\n",
    "\n",
    "El código se puede mejorar proporcionando un mensaje de error más informativo que indique la clave específica que no se encuentra. También se puede agregar código para manejar otros errores potenciales, como IndexError si se intenta acceder a un elemento de una lista con un índice incorrecto."
   ]
  },
  {
   "cell_type": "markdown",
   "id": "08c52f73-4b99-4a6e-85d8-78380f8356fa",
   "metadata": {},
   "source": [
    "4 - Localiza el error en el siguiente bloque de código. Crea una excepción para evitar que el programa se bloquee y además explica en un mensaje al usuario la causa y/o solución:"
   ]
  },
  {
   "cell_type": "markdown",
   "id": "6f280fde-5948-4d1c-aefd-7c0146337c85",
   "metadata": {},
   "source": [
    "`resultado = 15 + \"20\"`"
   ]
  },
  {
   "cell_type": "markdown",
   "id": "542b4f54-d2bb-48ba-9b1c-6bbd807a3a68",
   "metadata": {},
   "source": [
    "Localizamos el error:"
   ]
  },
  {
   "cell_type": "code",
   "execution_count": null,
   "id": "04d33fba-115f-4a22-a0bb-c51a4b8b2510",
   "metadata": {},
   "outputs": [
    {
     "ename": "TypeError",
     "evalue": "unsupported operand type(s) for +: 'int' and 'str'",
     "output_type": "error",
     "traceback": [
      "\u001b[1;31m---------------------------------------------------------------------------\u001b[0m",
      "\u001b[1;31mTypeError\u001b[0m                                 Traceback (most recent call last)",
      "Cell \u001b[1;32mIn[8], line 1\u001b[0m\n\u001b[1;32m----> 1\u001b[0m resultado \u001b[38;5;241m=\u001b[39m \u001b[38;5;241;43m15\u001b[39;49m\u001b[43m \u001b[49m\u001b[38;5;241;43m+\u001b[39;49m\u001b[43m \u001b[49m\u001b[38;5;124;43m\"\u001b[39;49m\u001b[38;5;124;43m20\u001b[39;49m\u001b[38;5;124;43m\"\u001b[39;49m\n",
      "\u001b[1;31mTypeError\u001b[0m: unsupported operand type(s) for +: 'int' and 'str'"
     ]
    }
   ],
   "source": [
    "resultado = 15 + \"20\""
   ]
  },
  {
   "cell_type": "markdown",
   "id": "42dc0640",
   "metadata": {},
   "source": [
    "# Suma de un número y una cadena:\n",
    "\n",
    "La línea de código resultado = 15 + \"20\" intenta sumar el número entero 15 con la cadena de caracteres \"20\".\n",
    "\n",
    "Comportamiento en Python:\n",
    "\n",
    "En Python, la suma de un número y una cadena de caracteres no está definida. Esto significa que se producirá un error de tipo TypeError al ejecutar este código.\n",
    "\n",
    "Error TypeError:\n",
    "\n",
    "El error TypeError se produce cuando se intenta realizar una operación entre dos tipos de datos que no son compatibles. En este caso, el número 15 es de tipo int (entero) y la cadena \"20\" es de tipo str (cadena de caracteres). Python no tiene una regla definida para sumar un entero y una cadena, por lo que se genera el error.\n",
    "\n",
    "Información adicional sobre la suma de cadenas:\n",
    "\n",
    "Si se desea concatenar dos cadenas de caracteres en lugar de sumarlas, se puede utilizar el operador de concatenación \"+\". Por ejemplo, el código resultado = \"15\" + \"20\" concatenaría las cadenas \"15\" y \"20\" para producir la cadena \"1520\".\n",
    "\n",
    "Resumen:\n",
    "\n",
    "El código resultado = 15 + \"20\" intenta sumar un número y una cadena, lo que genera un error TypeError en Python. Si se desea concatenar dos cadenas, se debe utilizar el operador de concatenación \"+\"."
   ]
  },
  {
   "cell_type": "markdown",
   "id": "cf1f52d8-3515-4d12-8bed-86b254872a87",
   "metadata": {},
   "source": [
    "El tipo de error es: TypeError"
   ]
  },
  {
   "cell_type": "code",
   "execution_count": null,
   "id": "a80e35fc-3706-4434-b266-1921cda8886a",
   "metadata": {},
   "outputs": [
    {
     "ename": "TypeError",
     "evalue": "can only concatenate str (not \"int\") to str",
     "output_type": "error",
     "traceback": [
      "\u001b[1;31m---------------------------------------------------------------------------\u001b[0m",
      "\u001b[1;31mTypeError\u001b[0m                                 Traceback (most recent call last)",
      "Cell \u001b[1;32mIn[9], line 1\u001b[0m\n\u001b[1;32m----> 1\u001b[0m resultado \u001b[38;5;241m=\u001b[39m \u001b[38;5;124;43m\"\u001b[39;49m\u001b[38;5;124;43m20\u001b[39;49m\u001b[38;5;124;43m\"\u001b[39;49m\u001b[43m \u001b[49m\u001b[38;5;241;43m+\u001b[39;49m\u001b[43m \u001b[49m\u001b[38;5;241;43m15\u001b[39;49m\n",
      "\u001b[1;31mTypeError\u001b[0m: can only concatenate str (not \"int\") to str"
     ]
    }
   ],
   "source": [
    " resultado = \"20\" + 15"
   ]
  },
  {
   "cell_type": "markdown",
   "id": "4639e31d",
   "metadata": {},
   "source": [
    "# Concatenación de una cadena y un número:\n",
    "\n",
    "La línea de código resultado = \"20\" + 15 intenta concatenar la cadena de caracteres \"20\" con el número entero 15.\n",
    "\n",
    "Comportamiento en Python:\n",
    "\n",
    "En Python, la concatenación de una cadena y un número se realiza convirtiendo primero el número a una cadena y luego concatenando las dos cadenas. La conversión del número a una cadena se realiza utilizando la función str().\n",
    "\n",
    "Ejemplo de concatenación:\n",
    "\n",
    "Python\n",
    "numero = 15\n",
    "cadena = \"20\"\n",
    "\n",
    "resultado = cadena + str(numero)\n",
    "print(resultado)  # Salida: 2015\n",
    "Usa el código con precaución.\n",
    "content_copy\n",
    "En este ejemplo, el número 15 se convierte primero a la cadena \"15\" utilizando la función str(). Luego, la cadena \"20\" se concatena con la cadena \"15\" para producir la cadena final \"2015\".\n",
    "\n",
    "Diferencias con la suma:\n",
    "\n",
    "Es importante tener en cuenta que la concatenación de una cadena y un número es diferente a la suma de una cadena y un número. La suma, como se explicó en la respuesta anterior, generaría un error TypeError debido a la incompatibilidad de tipos.\n",
    "\n",
    "Resumen:\n",
    "\n",
    "La línea de código resultado = \"20\" + 15 concatena la cadena \"20\" con el número 15, convirtiendo primero el número a una cadena. El resultado final es la cadena \"2015\"."
   ]
  },
  {
   "cell_type": "markdown",
   "id": "5c0d0561-46c3-461a-82e6-f514be701664",
   "metadata": {},
   "source": [
    "la salida el error es diferente según el orden, pero al menos es de tipo TypeError"
   ]
  },
  {
   "cell_type": "code",
   "execution_count": null,
   "id": "f315af0f-181d-42e2-a436-432f034bc3ef",
   "metadata": {},
   "outputs": [
    {
     "name": "stdout",
     "output_type": "stream",
     "text": [
      "Error: Solo es posible sumar datos de un mismo tipo.    Debes transformar el número a cadena o la cadena a número.\n"
     ]
    }
   ],
   "source": [
    "try:\n",
    "    resultado = 15 + \"20\"\n",
    "except TypeError:\n",
    "    print('Error: Solo es posible sumar datos de un mismo tipo.\\\n",
    "    Debes transformar el número a cadena o la cadena a número.')"
   ]
  },
  {
   "cell_type": "markdown",
   "id": "9a2f6c03",
   "metadata": {},
   "source": [
    "# Bloque try-except:\n",
    "\n",
    "El código utiliza un bloque try-except para manejar un error potencial. El bloque try contiene el código que se intenta ejecutar, y el bloque except se ejecuta si se produce un error.\n",
    "\n",
    "Suma de un número y una cadena:\n",
    "\n",
    "Dentro del bloque try, la línea de código resultado = 15 + \"20\" intenta sumar el número entero 15 con la cadena de caracteres \"20\". Como se explicó en respuestas anteriores, esta operación genera un error TypeError en Python debido a la incompatibilidad de tipos.\n",
    "\n",
    "Manejo del error TypeError:\n",
    "\n",
    "El bloque except captura el error TypeError y ejecuta el código dentro de él. Este código imprime un mensaje de error que indica que solo es posible sumar datos del mismo tipo y que se debe convertir el número a cadena o la cadena a número.\n",
    "\n",
    "Conversión de tipos:\n",
    "\n",
    "Para realizar la suma correctamente, se puede convertir el número 15 a cadena o la cadena \"20\" a número. Por ejemplo:\n",
    "\n",
    "Convertir el número a cadena:\n",
    "\n",
    "\n",
    "  resultado = 15 + str(20)  # Convertir el número 20 a cadena\n",
    "except TypeError:\n",
    "  pass  # No se maneja este error, ya que la conversión lo previene\n",
    "print(resultado)  # Salida: 1520\n",
    "Usa el código con precaución.\n",
    "content_copy\n",
    "Convertir la cadena a número:\n",
    "\n",
    "\n",
    "  resultado = int(\"20\") + 15  # Convertir la cadena \"20\" a entero\n",
    "except TypeError:\n",
    "  pass  # No se maneja este error, ya que la conversión lo previene\n",
    "print(resultado)  # Salida: 35\n",
    "Usa el código con precaución.\n",
    "content_copy\n",
    "Resumen:\n",
    "\n",
    "El código utiliza un bloque try-except para manejar un error TypeError que se produce al intentar sumar un número y una cadena. El mensaje de error indica que se deben convertir los datos a un mismo tipo antes de realizar la operación. Se muestran ejemplos de cómo convertir el número a cadena o la cadena a número para realizar la suma correctamente."
   ]
  },
  {
   "cell_type": "markdown",
   "id": "d55d0a8b-71bb-432c-b082-1fc2c75d4687",
   "metadata": {},
   "source": [
    "5 -  Realiza una función llamada **agregar_una_vez(lista, el)** que reciba una lista y un elemento. La función debe añadir el elemento al final de la lista con la condición de no repetir ningún elemento. Además si este elemento ya se encuentra en la lista se debe invocar un error de tipo **ValueError** que debes capturar y mostrar este mensaje en su lugar:"
   ]
  },
  {
   "cell_type": "markdown",
   "id": "34c5c3a2-03b3-4956-a600-9ceebb0f72f9",
   "metadata": {},
   "source": [
    "`Error: Imposible añadir elementos duplicados => [elemento].`"
   ]
  },
  {
   "cell_type": "markdown",
   "id": "c483a924-11f0-4c63-a791-6f451be20e72",
   "metadata": {},
   "source": [
    "Cuando tengas la función intenta añadir los siguiente valores a la lista **10, -2, \"Hola\"** y luego muestra su contenido. Puedes utilizar la sintaxis \"elemento in lista\""
   ]
  },
  {
   "cell_type": "code",
   "execution_count": null,
   "id": "da1402e7-f03a-4101-bbcc-62bc4565c35c",
   "metadata": {},
   "outputs": [
    {
     "name": "stdout",
     "output_type": "stream",
     "text": [
      "Error: Imposible añadir elementos duplicados => -2\n",
      "[1, 5, -2, 10, 'Hola']\n"
     ]
    }
   ],
   "source": [
    "elementos = [1, 5, -2]\n",
    "\n",
    "def agregar_una_vez(lista, el):\n",
    "    try:\n",
    "        if el in lista:\n",
    "            raise ValueError\n",
    "        else:\n",
    "            lista.append(el)\n",
    "    except ValueError:\n",
    "        print(f'Error: Imposible añadir elementos duplicados => {el}')\n",
    "\n",
    "agregar_una_vez(elementos, 10)\n",
    "agregar_una_vez(elementos, -2)\n",
    "agregar_una_vez(elementos, 'Hola')\n",
    "print(elementos)"
   ]
  },
  {
   "cell_type": "markdown",
   "id": "6e5bb958",
   "metadata": {},
   "source": [
    "# Lista de elementos:\n",
    "\n",
    "La primera línea del código define una lista llamada elementos que contiene los números enteros 1, 5 y -2. Las listas en Python son colecciones ordenadas de elementos que se pueden modificar y acceder mediante índices.\n",
    "\n",
    "Función agregar_una_vez:\n",
    "\n",
    "La función agregar_una_vez toma dos argumentos:\n",
    "\n",
    "lista: Una lista a la que se pretende agregar un elemento.\n",
    "el: El elemento que se desea agregar a la lista.\n",
    "Comportamiento de la función:\n",
    "\n",
    "La función primero intenta verificar si el elemento el ya existe en la lista lista. Si el elemento se encuentra en la lista, se genera un error ValueError y se imprime un mensaje indicando que no se pueden agregar elementos duplicados. Si el elemento no existe en la lista, se agrega a la lista utilizando el método append().\n",
    "\n",
    "Ejemplo de uso:\n",
    "\n",
    "Las siguientes líneas de código llaman a la función agregar_una_vez para agregar diferentes elementos a la lista elementos:\n",
    "\n",
    "Python\n",
    "agregar_una_vez(elementos, 10)  # Intenta agregar 10 a la lista\n",
    "agregar_una_vez(elementos, -2)  # Intenta agregar -2 a la lista (ya existe, genera error)\n",
    "agregar_una_vez(elementos, 'Hola')  # Agrega 'Hola' a la lista (no es un duplicado)\n",
    "Usa el código con precaución.\n",
    "content_copy\n",
    "Impresión de la lista:\n",
    "\n",
    "La última línea del código imprime la lista elementos después de todas las llamadas a la función agregar_una_vez. La lista final contiene los elementos 1, 5, -2 y 'Hola', ya que se agregó \"Hola\" pero no se pudo agregar -2 debido a que ya existía en la lista.\n",
    "\n",
    "Resumen:\n",
    "\n",
    "El código define una lista y una función para agregar elementos a la lista sin duplicados. La función verifica si el elemento ya existe en la lista y genera un error si lo hace. Si el elemento no es un duplicado, se agrega a la lista. El código muestra ejemplos de cómo usar la función para agregar diferentes tipos de elementos a la lista."
   ]
  }
 ],
 "metadata": {
  "kernelspec": {
   "display_name": "Python 3 (ipykernel)",
   "language": "python",
   "name": "python3"
  },
  "language_info": {
   "codemirror_mode": {
    "name": "ipython",
    "version": 3
   },
   "file_extension": ".py",
   "mimetype": "text/x-python",
   "name": "python",
   "nbconvert_exporter": "python",
   "pygments_lexer": "ipython3",
   "version": "3.11.9"
  }
 },
 "nbformat": 4,
 "nbformat_minor": 5
}
