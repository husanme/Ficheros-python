{
 "cells": [
  {
   "cell_type": "markdown",
   "metadata": {},
   "source": [
    "# Excepciones y errores de Python"
   ]
  },
  {
   "cell_type": "markdown",
   "metadata": {},
   "source": [
    "\n",
    "\n",
    "En este artículo, aprenderá el manejo de errores y excepciones en Python.\n",
    "\n",
    "Al final del artículo, sabrás:\n",
    "\n",
    "Cómo controlar las excepciones mediante las instrucciones try, except y finally\n",
    "Cómo crear una excepción personalizada\n",
    "Cómo generar una excepción\n",
    "Cómo usar la excepción incorporada de manera efectiva para crear programas robustos de Python\n",
    "Excepciones de Python\n",
    "Excepciones de Python\n",
    "\n",
    "Tabla de contenidos\n",
    "¿Qué son las excepciones?\n",
    "¿Por qué usar la excepción?\n",
    "¿Qué son los errores?\n",
    "Error de sintaxis\n",
    "Errores lógicos (excepción)\n",
    "Excepciones integradas\n",
    "El try y except Bloquear para controlar excepciones\n",
    "Detección de excepciones específicas\n",
    "Controlar varias excepciones con una sola cláusula except\n",
    "Usando try con finally\n",
    "Uso de la cláusula try with else\n",
    "Generar excepciones\n",
    "Encadenamiento de excepciones\n",
    "Excepciones personalizadas y definidas por el usuario\n",
    "Personalización de clases de excepción\n",
    "Ciclo de vida de la excepción\n",
    "Advertencias"
   ]
  },
  {
   "cell_type": "markdown",
   "metadata": {},
   "source": [
    "# ¿Qué son las excepciones?\n",
    "Una excepción es un evento que ocurre durante la ejecución de programas que interrumpe el flujo normal de ejecución (por ejemplo, KeyError Raised cuando no se encuentra una clave en un diccionario). Una excepción es un objeto de Python que representa un error.\n",
    "En Python, una excepción es un objeto derivado de la clase BaseException que contiene información sobre un evento de error que se produjo dentro de un método. El objeto de excepción contiene:\n",
    "\n",
    "Tipo de error (nombre de la excepción)\n",
    "El estado del programa cuando se produjo el error\n",
    "Un mensaje de error describe el evento de error.\n",
    "Las excepciones son útiles para indicar diferentes tipos de posibles condiciones de fallo.\n",
    "\n",
    "Por ejemplo, a continuación se encuentran las pocas excepciones estándar\n",
    "\n",
    "FileNotFoundException\n",
    "ImportError\n",
    "RuntimeError\n",
    "NameError\n",
    "TypeError (Error de tipo)\n",
    "En Python, podemos lanzar una excepción en el bloque try y capturarla en el bloque except."
   ]
  },
  {
   "cell_type": "markdown",
   "metadata": {},
   "source": [
    "# ¿Por qué usar la excepción?\n",
    "Control de errores estandarizado: mediante excepciones integradas o la creación de una excepción personalizada con un nombre y una descripción más precisos, puede definir adecuadamente el evento de error, lo que le ayuda a depurar el evento de error.\n",
    "Código más limpio: las excepciones separan el código de control de errores del código normal, lo que nos ayuda a mantener fácilmente el código grande.\n",
    "Aplicación robusta: Con la ayuda de excepciones, podemos desarrollar una aplicación sólida, que puede manejar eventos de error de manera eficiente\n",
    "Propagación de excepciones: de forma predeterminada, la excepción propaga la pila de llamadas si no la detecta. Por ejemplo, si se ha producido algún evento de error en una función anidada, no es necesario capturarlo y reenviarlo explícitamente; Automáticamente, se reenvía a la función de llamada donde puede manejarlo.\n",
    "Diferentes tipos de error: puede usar la excepción incorporada o crear su excepción personalizada y agruparlas por su clase principal generalizada, o diferenciar los errores por su clase real"
   ]
  },
  {
   "cell_type": "markdown",
   "metadata": {},
   "source": [
    "# ¿Qué son los errores?\n",
    "Por otro lado, un error es una acción incorrecta o inexacta. Por ejemplo, error de sintaxis. Debido a lo cual el programa no se ejecuta.\n",
    "\n",
    "A grandes rasgos, los errores se pueden clasificar en dos tipos:\n",
    "\n",
    "Errores de sintaxis\n",
    "Errores lógicos\n",
    "Error de sintaxis\n",
    "El error de sintaxis se produce cuando no estamos siguiendo la estructura o sintaxis adecuada del lenguaje. Un error de sintaxis también se conoce como error de análisis.\n",
    "\n",
    "Cuando Python analiza el programa y encuentra una declaración incorrecta, se conoce como error de sintaxis. Cuando el analizador encuentra un error de sintaxis, sale con un mensaje de error sin ejecutar nada.\n",
    "\n",
    "Errores comunes de sintaxis de Python:\n",
    "\n",
    "Sangría incorrecta\n",
    "Faltan dos puntos, comas o corchetes\n",
    "Poner las palabras clave en el lugar equivocado."
   ]
  },
  {
   "cell_type": "code",
   "execution_count": 20,
   "metadata": {},
   "outputs": [
    {
     "ename": "IndentationError",
     "evalue": "unexpected indent (2124005073.py, line 3)",
     "output_type": "error",
     "traceback": [
      "\u001b[1;36m  Cell \u001b[1;32mIn[20], line 3\u001b[1;36m\u001b[0m\n\u001b[1;33m    print(\"Learn Python with us..\")\u001b[0m\n\u001b[1;37m    ^\u001b[0m\n\u001b[1;31mIndentationError\u001b[0m\u001b[1;31m:\u001b[0m unexpected indent\n"
     ]
    }
   ],
   "source": [
    "# Ejemplo\n",
    "print(\"Welcome to PYnative\")\n",
    "    print(\"Learn Python with us..\")"
   ]
  },
  {
   "cell_type": "markdown",
   "metadata": {},
   "source": [
    "Errores lógicos (excepción)\n",
    "Incluso si una instrucción o expresión es sintácticamente correcta, el error que se produce en tiempo de ejecución se conoce como error lógico o excepción. En otras palabras, los errores detectados durante la ejecución se denominan excepciones.\n",
    "\n",
    "Errores lógicos comunes de Python:\n",
    "\n",
    "Sangría de un bloque al nivel incorrecto\n",
    "Usar el nombre de variable incorrecto\n",
    "Cometer un error en una expresión booleana# "
   ]
  },
  {
   "cell_type": "code",
   "execution_count": null,
   "metadata": {},
   "outputs": [
    {
     "ename": "NameError",
     "evalue": "name 'c' is not defined",
     "output_type": "error",
     "traceback": [
      "\u001b[1;31m---------------------------------------------------------------------------\u001b[0m",
      "\u001b[1;31mNameError\u001b[0m                                 Traceback (most recent call last)",
      "Cell \u001b[1;32mIn[2], line 4\u001b[0m\n\u001b[0;32m      2\u001b[0m a \u001b[38;5;241m=\u001b[39m \u001b[38;5;241m10\u001b[39m\n\u001b[0;32m      3\u001b[0m b \u001b[38;5;241m=\u001b[39m \u001b[38;5;241m20\u001b[39m\n\u001b[1;32m----> 4\u001b[0m \u001b[38;5;28mprint\u001b[39m(\u001b[38;5;124m\"\u001b[39m\u001b[38;5;124mAddition:\u001b[39m\u001b[38;5;124m\"\u001b[39m, a \u001b[38;5;241m+\u001b[39m \u001b[43mc\u001b[49m)\n",
      "\u001b[1;31mNameError\u001b[0m: name 'c' is not defined"
     ]
    }
   ],
   "source": [
    "# Ejemplo\n",
    "a = 10\n",
    "b = 20\n",
    "print(\"Addition:\", a + c)"
   ]
  },
  {
   "cell_type": "markdown",
   "metadata": {},
   "source": [
    "# Excepciones integradas\n",
    "En la tabla siguiente se muestran diferentes excepciones integradas.\n",
    "\n",
    "Python genera automáticamente muchas excepciones y errores. Excepciones en tiempo de ejecución, generalmente como resultado de errores de programación, como:\n",
    "\n",
    "Lectura de un archivo que no está presente\n",
    "Intentar leer datos fuera del índice disponible de una lista\n",
    "Dividir un valor entero por cero"
   ]
  },
  {
   "cell_type": "markdown",
   "metadata": {},
   "source": [
    "![Texto alternativo](\\img\\level.jpg)"
   ]
  },
  {
   "cell_type": "markdown",
   "metadata": {},
   "source": [
    "# Ejemplo: Se genera cuando un archivo no está presente en el discoFilenotfoundError"
   ]
  },
  {
   "cell_type": "code",
   "execution_count": null,
   "metadata": {},
   "outputs": [
    {
     "ename": "FileNotFoundError",
     "evalue": "[Errno 2] No such file or directory: 'test.txt'",
     "output_type": "error",
     "traceback": [
      "\u001b[1;31m---------------------------------------------------------------------------\u001b[0m",
      "\u001b[1;31mFileNotFoundError\u001b[0m                         Traceback (most recent call last)",
      "Cell \u001b[1;32mIn[10], line 1\u001b[0m\n\u001b[1;32m----> 1\u001b[0m fp \u001b[38;5;241m=\u001b[39m \u001b[38;5;28;43mopen\u001b[39;49m\u001b[43m(\u001b[49m\u001b[38;5;124;43m\"\u001b[39;49m\u001b[38;5;124;43mtest.txt\u001b[39;49m\u001b[38;5;124;43m\"\u001b[39;49m\u001b[43m,\u001b[49m\u001b[43m \u001b[49m\u001b[38;5;124;43m\"\u001b[39;49m\u001b[38;5;124;43mr\u001b[39;49m\u001b[38;5;124;43m\"\u001b[39;49m\u001b[43m)\u001b[49m\n\u001b[0;32m      2\u001b[0m \u001b[38;5;28;01mif\u001b[39;00m fp:\n\u001b[0;32m      3\u001b[0m     \u001b[38;5;28mprint\u001b[39m(\u001b[38;5;124m\"\u001b[39m\u001b[38;5;124mfile is opened successfully\u001b[39m\u001b[38;5;124m\"\u001b[39m)\n",
      "File \u001b[1;32m~\\AppData\\Roaming\\Python\\Python311\\site-packages\\IPython\\core\\interactiveshell.py:324\u001b[0m, in \u001b[0;36m_modified_open\u001b[1;34m(file, *args, **kwargs)\u001b[0m\n\u001b[0;32m    317\u001b[0m \u001b[38;5;28;01mif\u001b[39;00m file \u001b[38;5;129;01min\u001b[39;00m {\u001b[38;5;241m0\u001b[39m, \u001b[38;5;241m1\u001b[39m, \u001b[38;5;241m2\u001b[39m}:\n\u001b[0;32m    318\u001b[0m     \u001b[38;5;28;01mraise\u001b[39;00m \u001b[38;5;167;01mValueError\u001b[39;00m(\n\u001b[0;32m    319\u001b[0m         \u001b[38;5;124mf\u001b[39m\u001b[38;5;124m\"\u001b[39m\u001b[38;5;124mIPython won\u001b[39m\u001b[38;5;124m'\u001b[39m\u001b[38;5;124mt let you open fd=\u001b[39m\u001b[38;5;132;01m{\u001b[39;00mfile\u001b[38;5;132;01m}\u001b[39;00m\u001b[38;5;124m by default \u001b[39m\u001b[38;5;124m\"\u001b[39m\n\u001b[0;32m    320\u001b[0m         \u001b[38;5;124m\"\u001b[39m\u001b[38;5;124mas it is likely to crash IPython. If you know what you are doing, \u001b[39m\u001b[38;5;124m\"\u001b[39m\n\u001b[0;32m    321\u001b[0m         \u001b[38;5;124m\"\u001b[39m\u001b[38;5;124myou can use builtins\u001b[39m\u001b[38;5;124m'\u001b[39m\u001b[38;5;124m open.\u001b[39m\u001b[38;5;124m\"\u001b[39m\n\u001b[0;32m    322\u001b[0m     )\n\u001b[1;32m--> 324\u001b[0m \u001b[38;5;28;01mreturn\u001b[39;00m \u001b[43mio_open\u001b[49m\u001b[43m(\u001b[49m\u001b[43mfile\u001b[49m\u001b[43m,\u001b[49m\u001b[43m \u001b[49m\u001b[38;5;241;43m*\u001b[39;49m\u001b[43margs\u001b[49m\u001b[43m,\u001b[49m\u001b[43m \u001b[49m\u001b[38;5;241;43m*\u001b[39;49m\u001b[38;5;241;43m*\u001b[39;49m\u001b[43mkwargs\u001b[49m\u001b[43m)\u001b[49m\n",
      "\u001b[1;31mFileNotFoundError\u001b[0m: [Errno 2] No such file or directory: 'test.txt'"
     ]
    }
   ],
   "source": [
    "fp = open(\"test.txt\", \"r\")\n",
    "if fp:\n",
    "    print(\"file is opened successfully\")"
   ]
  },
  {
   "cell_type": "markdown",
   "metadata": {},
   "source": [
    "# El y bloquea para controlar las excepcionestryexcept\n",
    "Cuando se produce una excepción, Python detiene la ejecución del programa y genera un mensaje de excepción. Se recomienda encarecidamente controlar las excepciones. El código dudoso que puede generar una excepción se denomina código de riesgo.\n",
    "\n",
    "Para manejar las excepciones, necesitamos usar try y except block. Defina el código de riesgo que puede generar una excepción dentro del bloque y el código de manejo correspondiente dentro del bloque.tryexcept"
   ]
  },
  {
   "cell_type": "code",
   "execution_count": null,
   "metadata": {},
   "outputs": [
    {
     "ename": "IndentationError",
     "evalue": "expected an indented block after 'try' statement on line 1 (616586406.py, line 3)",
     "output_type": "error",
     "traceback": [
      "\u001b[1;36m  Cell \u001b[1;32mIn[12], line 3\u001b[1;36m\u001b[0m\n\u001b[1;33m    except :\u001b[0m\n\u001b[1;37m    ^\u001b[0m\n\u001b[1;31mIndentationError\u001b[0m\u001b[1;31m:\u001b[0m expected an indented block after 'try' statement on line 1\n"
     ]
    }
   ],
   "source": [
    "try :\n",
    "    # statements in try block\n",
    "except :\n",
    "    # executed when exception occured in try block"
   ]
  },
  {
   "cell_type": "markdown",
   "metadata": {},
   "source": [
    "El bloque try es para el código de riesgo que puede generar una excepción y el bloque except para controlar el error generado en un bloque try. Por ejemplo, si dividimos cualquier número por cero, try block lanzará , por lo que debemos manejar esa excepción en el bloque except.ZeroDivisionError\n",
    "\n",
    "Cuando no usamos el bloque en el programa, el programa termina de manera anormal, o será una terminación no correcta del programa.try…except\n",
    "\n",
    "Ahora veamos el ejemplo en el que no usamos block para manejar excepciones.try…except"
   ]
  },
  {
   "cell_type": "code",
   "execution_count": null,
   "metadata": {},
   "outputs": [
    {
     "ename": "ZeroDivisionError",
     "evalue": "division by zero",
     "output_type": "error",
     "traceback": [
      "\u001b[1;31m---------------------------------------------------------------------------\u001b[0m",
      "\u001b[1;31mZeroDivisionError\u001b[0m                         Traceback (most recent call last)",
      "Cell \u001b[1;32mIn[13], line 5\u001b[0m\n\u001b[0;32m      3\u001b[0m a \u001b[38;5;241m=\u001b[39m \u001b[38;5;241m10\u001b[39m\n\u001b[0;32m      4\u001b[0m b \u001b[38;5;241m=\u001b[39m \u001b[38;5;241m0\u001b[39m\n\u001b[1;32m----> 5\u001b[0m c \u001b[38;5;241m=\u001b[39m \u001b[43ma\u001b[49m\u001b[43m \u001b[49m\u001b[38;5;241;43m/\u001b[39;49m\u001b[43m \u001b[49m\u001b[43mb\u001b[49m\n\u001b[0;32m      6\u001b[0m \u001b[38;5;28mprint\u001b[39m(\u001b[38;5;124m\"\u001b[39m\u001b[38;5;124ma/b = \u001b[39m\u001b[38;5;132;01m%d\u001b[39;00m\u001b[38;5;124m\"\u001b[39m \u001b[38;5;241m%\u001b[39m c)\n",
      "\u001b[1;31mZeroDivisionError\u001b[0m: division by zero"
     ]
    }
   ],
   "source": [
    "# Ejemplo:\n",
    "\n",
    "a = 10\n",
    "b = 0\n",
    "c = a / b\n",
    "print(\"a/b = %d\" % c)"
   ]
  },
  {
   "cell_type": "markdown",
   "metadata": {},
   "source": [
    "Podemos ver en el código anterior cuando estamos divididos por 0; Python lanza una excepción como y el programa termina de forma anormal.ZeroDivisionError\n",
    "\n",
    "Podemos manejar la excepción anterior usando el bloque. Consulte el código siguiente.try…except"
   ]
  },
  {
   "cell_type": "code",
   "execution_count": null,
   "metadata": {},
   "outputs": [
    {
     "name": "stdout",
     "output_type": "stream",
     "text": [
      "Can't divide with zero. Provide different number\n"
     ]
    }
   ],
   "source": [
    "# Ejemplo\n",
    "\n",
    "try:\n",
    "    a = 10\n",
    "    b = 0\n",
    "    c = a/b\n",
    "    print(\"The answer of a divide by b:\", c)\n",
    "except:\n",
    "    print(\"Can't divide with zero. Provide different number\")"
   ]
  },
  {
   "cell_type": "markdown",
   "metadata": {},
   "source": [
    "# Detección de excepciones específicas\n",
    "También podemos detectar una excepción específica. En el ejemplo anterior, no mencionamos ninguna excepción específica en el bloque except. Detectar todas las excepciones y controlar todas las excepciones no es una buena práctica de programación.\n",
    "\n",
    "Es una buena práctica especificar una excepción exacta que la cláusula except debe detectar. Por ejemplo, para detectar una excepción que se produce cuando el usuario escribe un valor no numérico en lugar de un número, solo podemos detectar la excepción ValueError integrada que controlará dicho evento correctamente.\n",
    "\n",
    "Podemos especificar qué bloque de excepción debe capturar o manejar. Un bloque puede ir seguido de varios números de bloques para controlar las diferentes excepciones. Pero solo se ejecutará una excepción cuando se produzca una excepción.excepttryexcept\n",
    "Ejemplo\n",
    "\n",
    "En este ejemplo, le pediremos al usuario el valor del denominador. Si el usuario ingresa un número, el programa evaluará y producirá el resultado.\n",
    "\n",
    "Si el usuario ingresa un valor no numérico, el bloque try lanzará una excepción, y podemos detectarla usando un primer bloque catch 'except ValueError' imprimiendo el mensaje 'El valor ingresado es incorrecto'.ValueError\n",
    "\n",
    "Y supongamos que el usuario ingresa el denominador como cero. En ese caso, el bloque try lanzará un , y podemos capturarlo usando un segundo bloque catch imprimiendo el mensaje 'No se puede dividir por cero'.ZeroDivisionError\n"
   ]
  },
  {
   "cell_type": "code",
   "execution_count": null,
   "metadata": {},
   "outputs": [
    {
     "name": "stdout",
     "output_type": "stream",
     "text": [
      "The answer of a divide by b: 0.008605720900478266\n"
     ]
    }
   ],
   "source": [
    "try:\n",
    "    a = int(input(\"Enter value of a:\"))\n",
    "    b = int(input(\"Enter value of b:\"))\n",
    "    c = a/b\n",
    "    print(\"The answer of a divide by b:\", c)\n",
    "except ValueError:\n",
    "    print(\"Entered value is wrong\")\n",
    "except ZeroDivisionError:\n",
    "    print(\"Can't divide by zero\")"
   ]
  },
  {
   "cell_type": "markdown",
   "metadata": {},
   "source": [
    "# Controlar varias excepciones con una sola cláusula except\n",
    "\n",
    "También podemos manejar múltiples excepciones con una sola cláusula. Para eso, podemos usar un of para especificar múltiples excepciones en una cláusula.excepttupleexcept"
   ]
  },
  {
   "cell_type": "code",
   "execution_count": null,
   "metadata": {},
   "outputs": [
    {
     "name": "stdout",
     "output_type": "stream",
     "text": [
      "The answer of a divide by b: 0.001279604893927489\n"
     ]
    }
   ],
   "source": [
    " # Ejemplo\n",
    "\n",
    "# Veamos cómo especificar dos excepciones en la cláusula except única.\n",
    "\n",
    "try:\n",
    "    a = int(input(\"Enter value of a:\"))\n",
    "    b = int(input(\"Enter value of b:\"))\n",
    "    c = a / b\n",
    "    print(\"The answer of a divide by b:\", c)\n",
    "except(ValueError, ZeroDivisionError):\n",
    "    print(\"Please enter a valid value\")"
   ]
  },
  {
   "cell_type": "markdown",
   "metadata": {},
   "source": [
    "# Usando con tryfinally\n",
    "Python proporciona el bloque, que se utiliza con la instrucción try block. El bloque finally se usa para escribir un bloque de código que debe ejecutarse, ya sea que el bloque try genere un error o no.finally\n",
    "\n",
    "Principalmente, el bloque se utiliza para liberar el recurso externo. Este bloque proporciona una garantía de ejecución.finally\n",
    "\n"
   ]
  },
  {
   "cell_type": "markdown",
   "metadata": {},
   "source": [
    "![Texto alternativo](\\img\\chaining.jpg)"
   ]
  },
  {
   "cell_type": "markdown",
   "metadata": {},
   "source": [
    "Acciones de limpieza usando finally\n",
    "\n",
    "A veces queremos ejecutar alguna acción a cualquier costo, incluso si se produjo un error en un programa. En Python, podemos realizar tales acciones usando una declaración finally con una declaración try y except.\n",
    "\n",
    "El bloque de código escrito en el bloque finally siempre se ejecutará incluso si hay una excepción en el bloque try y except.\n",
    "\n",
    "Si una excepción no es manejada por la cláusula except, finalmente el bloque se ejecuta primero, luego se produce la excepción. Este proceso se conoce como acción de limpieza."
   ]
  },
  {
   "cell_type": "code",
   "execution_count": null,
   "metadata": {},
   "outputs": [
    {
     "ename": "IndentationError",
     "evalue": "expected an indented block after 'try' statement on line 3 (2454723201.py, line 6)",
     "output_type": "error",
     "traceback": [
      "\u001b[1;36m  Cell \u001b[1;32mIn[18], line 6\u001b[1;36m\u001b[0m\n\u001b[1;33m    finally:\u001b[0m\n\u001b[1;37m    ^\u001b[0m\n\u001b[1;31mIndentationError\u001b[0m\u001b[1;31m:\u001b[0m expected an indented block after 'try' statement on line 3\n"
     ]
    }
   ],
   "source": [
    " # Sintaxis\n",
    "\n",
    "try:    \n",
    "    # block of code     \n",
    "    # this may throw an exception    \n",
    "finally:    \n",
    "    # block of code    \n",
    "    # this will always be executed \n",
    "    # after the try and any except block   "
   ]
  },
  {
   "cell_type": "code",
   "execution_count": null,
   "metadata": {},
   "outputs": [
    {
     "name": "stdout",
     "output_type": "stream",
     "text": [
      "The answer of a divide by b: 0.012276147313767765\n",
      "Inside a finally block\n"
     ]
    }
   ],
   "source": [
    "# Ejemplo\n",
    "\n",
    "try:\n",
    "    a = int(input(\"Enter value of a:\"))\n",
    "    b = int(input(\"Enter value of b:\"))\n",
    "    c = a / b\n",
    "    print(\"The answer of a divide by b:\", c)\n",
    "\n",
    "except ZeroDivisionError:\n",
    "    print(\"Can't divide with zero\")\n",
    "finally:\n",
    "    print(\"Inside a finally block\")"
   ]
  },
  {
   "cell_type": "markdown",
   "metadata": {},
   "source": [
    "Uso de la cláusula withtryelse\n",
    "A veces, es posible que queramos ejecutar un bloque específico de código. En ese caso, podemos usar block con el bloque. El bloque se ejecutará si y solo si no hay ninguna excepción es el bloque. Para estos casos, podemos usar la instrucción opcional con la instrucción.elsetry-exceptelsetryelsetry"
   ]
  },
  {
   "cell_type": "markdown",
   "metadata": {},
   "source": [
    "¿Por qué usar el bloque else con try?\n",
    "\n",
    "Use else statemen con el bloque try para comprobar si el bloque try se ejecutó sin ninguna excepción o si desea ejecutar un código específico solo si no se genera una excepción\n",
    "![Texto alternativo](\\img\\copys.jpg)\n"
   ]
  },
  {
   "cell_type": "markdown",
   "metadata": {},
   "source": [
    "Sintaxis\n",
    "\n",
    "try:    \n",
    "    # block of code     \n",
    "except Exception1:    \n",
    "    # block of code     \n",
    "else:    \n",
    "    # this code executes when exceptions not occured    \n",
    "Intenta: Bloque de código de riesgo que puede producir una excepción.try\n",
    "except: El bloque para controlar el error generado en un bloque.excepttry\n",
    "else: El bloque se ejecuta si no hay ninguna excepción.else"
   ]
  },
  {
   "cell_type": "code",
   "execution_count": 23,
   "metadata": {},
   "outputs": [
    {
     "name": "stdout",
     "output_type": "stream",
     "text": [
      "a/b = 0\n",
      "We are in else block \n"
     ]
    }
   ],
   "source": [
    "# Ejemplo\n",
    "\n",
    "try:\n",
    "    a = int(input(\"Enter value of a:\"))\n",
    "    b = int(input(\"Enter value of b:\"))\n",
    "    c = a / b\n",
    "    print(\"a/b = %d\" % c)\n",
    "\n",
    "except ZeroDivisionError:\n",
    "    print(\"Can't divide by zero\")\n",
    "else:\n",
    "    print(\"We are in else block \")"
   ]
  },
  {
   "cell_type": "markdown",
   "metadata": {},
   "source": [
    "Generar excepciones\n",
    "En Python, la instrucción nos permite lanzar una excepción. Los argumentos individuales de la sentencia muestran que se debe plantear una excepción. Puede ser un objeto de excepción o una clase derivada de la clase. raiseraiseExceptionException\n",
    "\n",
    "La instrucción es útil en situaciones en las que necesitamos generar una excepción al programa de llamada. Podemos plantear excepciones en casos como la recepción de datos erróneos o cualquier error de validación.raise\n",
    "\n",
    "Siga los pasos que se indican a continuación para generar una excepción:\n",
    "\n",
    "Cree una excepción del tipo adecuado. Utilice las excepciones integradas existentes o cree la excepción ganada según el requisito.\n",
    "Pase los datos apropiados mientras genera una excepción.\n",
    "Ejecute una instrucción raise proporcionando la clase de excepción."
   ]
  },
  {
   "cell_type": "markdown",
   "metadata": {},
   "source": [
    "La sintaxis para usar la instrucción se da a continuación.raise\n",
    "\n",
    "raise Exception_class,<value> "
   ]
  },
  {
   "cell_type": "code",
   "execution_count": null,
   "metadata": {},
   "outputs": [],
   "source": [
    "# Ejemplo \n",
    "def simple_interest(amount, year, rate):\n",
    "    try:\n",
    "        if rate > 100:\n",
    "            raise ValueError(rate)\n",
    "        interest = (amount * year * rate) / 100\n",
    "        print('The Simple Interest is', interest)\n",
    "        return interest\n",
    "    except ValueError:\n",
    "        print('interest rate is out of range', rate)\n",
    "\n",
    "print('Case 1')\n",
    "simple_interest(800, 6, 8)\n",
    "\n",
    "print('Case 2')\n",
    "simple_interest(800, 6, 800)\n"
   ]
  },
  {
   "cell_type": "markdown",
   "metadata": {},
   "source": [
    "Encadenamiento de excepciones\n",
    "El encadenamiento de excepciones solo está disponible en Python 3. Las instrucciones nos permiten como instrucción opcional, lo que habilita el encadenamiento de excepciones. Por lo tanto, podemos implementar el encadenamiento de excepciones en python3 usando una cláusula para encadenar excepciones.raisefromraise…from\n",
    "\n",
    "Cuando se genera una excepción, el encadenamiento de excepciones se produce automáticamente. La excepción se puede generar dentro o en bloque de la sección. También deshabilitamos el encadenamiento de excepciones mediante el uso de modismo.exceptfinallyfrom None"
   ]
  },
  {
   "cell_type": "code",
   "execution_count": 24,
   "metadata": {},
   "outputs": [
    {
     "name": "stdout",
     "output_type": "stream",
     "text": [
      "The answer of a divide by b: 0.9819949585884048\n"
     ]
    }
   ],
   "source": [
    "# Ejemplo\n",
    "\n",
    "try:\n",
    "    a = int(input(\"Enter value of a:\"))\n",
    "    b = int(input(\"Enter value of b:\"))\n",
    "    c = a/b\n",
    "    print(\"The answer of a divide by b:\", c)\n",
    "except ZeroDivisionError as e:\n",
    "    raise ValueError(\"Division failed\") from e\n",
    "\n",
    "# Output: Enter value of a:10\n",
    "# Enter value of b:0\n",
    "# ValueError: Division failed"
   ]
  }
 ],
 "metadata": {
  "kernelspec": {
   "display_name": "Python 3",
   "language": "python",
   "name": "python3"
  },
  "language_info": {
   "codemirror_mode": {
    "name": "ipython",
    "version": 3
   },
   "file_extension": ".py",
   "mimetype": "text/x-python",
   "name": "python",
   "nbconvert_exporter": "python",
   "pygments_lexer": "ipython3",
   "version": "3.11.9"
  }
 },
 "nbformat": 4,
 "nbformat_minor": 2
}
