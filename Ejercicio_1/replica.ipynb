{
 "cells": [
  {
   "cell_type": "markdown",
   "metadata": {},
   "source": [
    "**Creación y Escritura**"
   ]
  },
  {
   "cell_type": "code",
   "execution_count": 43,
   "metadata": {},
   "outputs": [],
   "source": [
    "from io import open # Desde Jupyter Notebooks no es necesario importar open\n",
    "\n",
    "texto = \"Una línea con texto\\nOtra línea con texto\"\n",
    "\n",
    "# Ruta donde crearemos el fichero, w indica escritura (puntero al principio)\n",
    "fichero = open('fichero.txt','w')\n",
    "\n",
    "# Escribimos el texto\n",
    "fichero.write(texto)\n",
    "\n",
    "# Cerramos el fichero\n",
    "fichero.close()"
   ]
  },
  {
   "cell_type": "markdown",
   "metadata": {},
   "source": [
    "# Explicación \n",
    "from io import open: Esto importa la función open de la librería io. Aunque en Jupyter Notebooks no es necesario importar open, este código lo hace explícitamente.\n",
    "\n",
    "texto = \"Una línea con texto\\nOtra línea con texto\": Define una variable llamada texto que contiene dos líneas de texto separadas por un salto de línea (\\n).\n",
    "\n",
    "fichero = open('fichero.txt','w'): Abre (o crea si no existe) un archivo llamado fichero.txt en modo escritura ('w'). La variable fichero almacena una referencia al archivo abierto.\n",
    "\n",
    "fichero.write(texto): Escribe el contenido de la variable texto en el archivo fichero. En este punto, el archivo contiene las dos líneas de texto.\n",
    "\n",
    "fichero.close(): Cierra el archivo después de escribir en él. Es importante cerrar el archivo después de haber terminado de escribir en él para liberar recursos y asegurar que los cambios se guarden correctamente.\n"
   ]
  },
  {
   "cell_type": "markdown",
   "metadata": {},
   "source": [
    "# Ejercicios similares "
   ]
  },
  {
   "cell_type": "code",
   "execution_count": 44,
   "metadata": {},
   "outputs": [],
   "source": [
    "from io import open\n",
    "\n",
    "texto = \"Este es un nuevo texto para el archivo\\nOtra línea con un contenido diferente\"\n",
    "\n",
    "# Ruta donde crearemos el nuevo fichero, w indica escritura (puntero al principio)\n",
    "nuevo_fichero = open('nuevo_fichero.txt', 'w')\n",
    "\n",
    "# Escribimos el texto en el nuevo archivo\n",
    "nuevo_fichero.write(texto)\n",
    "\n",
    "# Cerramos el nuevo fichero\n",
    "nuevo_fichero.close()\n"
   ]
  },
  {
   "cell_type": "code",
   "execution_count": 45,
   "metadata": {},
   "outputs": [],
   "source": [
    "from io import open\n",
    "\n",
    "nuevo_texto = \"\\nEsta es una nueva línea añadida al archivo\"\n",
    "\n",
    "# Ruta del archivo al que añadiremos contenido, 'a' indica añadir (puntero al final)\n",
    "fichero_existente = open('fichero.txt', 'a')\n",
    "\n",
    "# Añadimos el nuevo texto al final del archivo\n",
    "fichero_existente.write(nuevo_texto)\n",
    "\n",
    "# Cerramos el archivo\n",
    "fichero_existente.close()\n"
   ]
  },
  {
   "cell_type": "markdown",
   "metadata": {},
   "source": [
    "**Lectura**"
   ]
  },
  {
   "cell_type": "code",
   "execution_count": 46,
   "metadata": {},
   "outputs": [
    {
     "name": "stdout",
     "output_type": "stream",
     "text": [
      "Una línea con texto\n",
      "Otra línea con texto\n",
      "Esta es una nueva línea añadida al archivo\n"
     ]
    }
   ],
   "source": [
    "from io import open\n",
    "\n",
    "# Ruta donde leeremos el fichero, r indica lectura (por defecto ya es r)\n",
    "fichero = open('fichero.txt','r')\n",
    "\n",
    "# Lectura completa\n",
    "texto = fichero.read()\n",
    "\n",
    "# Cerramos el fichero\n",
    "fichero.close()\n",
    "\n",
    "print(texto)"
   ]
  },
  {
   "cell_type": "markdown",
   "metadata": {},
   "source": [
    "**Explicación**\n",
    "Se importa la clase open desde el módulo io. Esta clase se utiliza para abrir archivos en diferentes modos de operación (lectura, escritura, añadir, etc.).\n",
    "\n",
    "Se abre el archivo 'fichero.txt' en modo de lectura ('r'). Este modo es el modo por defecto, por lo que técnicamente no es necesario especificarlo explícitamente. Pero es buena práctica hacerlo para mayor claridad en el código.\n",
    "\n",
    "Se lee el contenido completo del archivo utilizando el método read() y se asigna a la variable texto.\n",
    "\n",
    "Se cierra el archivo usando el método close(). Es importante cerrar el archivo después de trabajar con él para liberar los recursos del sistema operativo asociados con él.\n",
    "\n",
    "Finalmente, se imprime el contenido del archivo (almacenado en la variable texto) en la consola utilizando la función print().\n",
    "\n",
    "En resumen, este código abre un archivo de texto, lee su contenido, lo almacena en una variable y luego imprime ese contenido en la consola.\n",
    "\n",
    "\n",
    "\n",
    "\n",
    "\n",
    "\n"
   ]
  },
  {
   "cell_type": "markdown",
   "metadata": {},
   "source": [
    "**Ejercicios similares**"
   ]
  },
  {
   "cell_type": "code",
   "execution_count": 47,
   "metadata": {},
   "outputs": [
    {
     "ename": "FileNotFoundError",
     "evalue": "[Errno 2] No such file or directory: 'datos.csv'",
     "output_type": "error",
     "traceback": [
      "\u001b[1;31m---------------------------------------------------------------------------\u001b[0m",
      "\u001b[1;31mFileNotFoundError\u001b[0m                         Traceback (most recent call last)",
      "Cell \u001b[1;32mIn[47], line 4\u001b[0m\n\u001b[0;32m      1\u001b[0m \u001b[38;5;28;01mimport\u001b[39;00m \u001b[38;5;21;01mcsv\u001b[39;00m\n\u001b[0;32m      3\u001b[0m \u001b[38;5;66;03m# Abrir el archivo CSV en modo de lectura\u001b[39;00m\n\u001b[1;32m----> 4\u001b[0m \u001b[38;5;28;01mwith\u001b[39;00m \u001b[38;5;28;43mopen\u001b[39;49m\u001b[43m(\u001b[49m\u001b[38;5;124;43m'\u001b[39;49m\u001b[38;5;124;43mdatos.csv\u001b[39;49m\u001b[38;5;124;43m'\u001b[39;49m\u001b[43m,\u001b[49m\u001b[43m \u001b[49m\u001b[38;5;124;43m'\u001b[39;49m\u001b[38;5;124;43mr\u001b[39;49m\u001b[38;5;124;43m'\u001b[39;49m\u001b[43m,\u001b[49m\u001b[43m \u001b[49m\u001b[43mnewline\u001b[49m\u001b[38;5;241;43m=\u001b[39;49m\u001b[38;5;124;43m'\u001b[39;49m\u001b[38;5;124;43m'\u001b[39;49m\u001b[43m)\u001b[49m \u001b[38;5;28;01mas\u001b[39;00m archivo_csv:\n\u001b[0;32m      5\u001b[0m     \u001b[38;5;66;03m# Crear un lector de CSV\u001b[39;00m\n\u001b[0;32m      6\u001b[0m     lector_csv \u001b[38;5;241m=\u001b[39m csv\u001b[38;5;241m.\u001b[39mreader(archivo_csv)\n\u001b[0;32m      8\u001b[0m     \u001b[38;5;66;03m# Leer el contenido del archivo y mostrarlo en la consola\u001b[39;00m\n",
      "\u001b[1;31mFileNotFoundError\u001b[0m: [Errno 2] No such file or directory: 'datos.csv'"
     ]
    }
   ],
   "source": [
    "import csv\n",
    "\n",
    "# Abrir el archivo CSV en modo de lectura\n",
    "with open('datos.csv', 'r', newline='') as archivo_csv:\n",
    "    # Crear un lector de CSV\n",
    "    lector_csv = csv.reader(archivo_csv)\n",
    "    \n",
    "    # Leer el contenido del archivo y mostrarlo en la consola\n",
    "    for fila in lector_csv:\n",
    "        print(fila)\n"
   ]
  },
  {
   "cell_type": "code",
   "execution_count": null,
   "metadata": {},
   "outputs": [],
   "source": [
    "import json\n",
    "\n",
    "# Abrir el archivo JSON en modo de lectura\n",
    "with open('datos.json', 'r') as archivo_json:\n",
    "    # Cargar el contenido JSON\n",
    "    contenido_json = json.load(archivo_json)\n",
    "    \n",
    "    # Mostrar el contenido en la consola\n",
    "    print(contenido_json)\n"
   ]
  },
  {
   "cell_type": "markdown",
   "metadata": {},
   "source": [
    "Podemos usar el método readlines() del fichero para generar una lista con las líneas:"
   ]
  },
  {
   "cell_type": "code",
   "execution_count": null,
   "metadata": {},
   "outputs": [
    {
     "name": "stdout",
     "output_type": "stream",
     "text": [
      "['Una línea con texto\\n', 'Otra línea con texto\\n', 'Esta es una nueva línea añadida al archivo']\n"
     ]
    }
   ],
   "source": [
    "from io import open\n",
    "fichero = open('fichero.txt','r')\n",
    "\n",
    "# Leemos creando una lista de líneas\n",
    "texto = fichero.readlines()\n",
    "\n",
    "fichero.close()\n",
    "print(texto)"
   ]
  },
  {
   "cell_type": "markdown",
   "metadata": {},
   "source": [
    "**Explicación**\n",
    "Se importa la clase open desde el módulo io. Esta clase se utiliza para abrir archivos en diferentes modos de operación (lectura, escritura, añadir, etc.).\n",
    "\n",
    "Se abre el archivo 'fichero.txt' en modo de lectura ('r').\n",
    "\n",
    "Se utiliza el método readlines() para leer todas las líneas del archivo y almacenarlas en una lista. Cada elemento de la lista será una línea del archivo.\n",
    "\n",
    "Se cierra el archivo utilizando el método close() para liberar los recursos del sistema operativo asociados con él.\n",
    "\n",
    "Finalmente, se imprime la lista texto, que contiene todas las líneas del archivo, en la consola.\n",
    "\n",
    "En resumen, este código abre un archivo de texto, lee todas las líneas del archivo y las almacena en una lista, y luego imprime esa lista en la consola."
   ]
  },
  {
   "cell_type": "markdown",
   "metadata": {},
   "source": [
    "**Ejercicios similares**"
   ]
  },
  {
   "cell_type": "code",
   "execution_count": null,
   "metadata": {},
   "outputs": [
    {
     "ename": "FileNotFoundError",
     "evalue": "[Errno 2] No such file or directory: 'texto.txt'",
     "output_type": "error",
     "traceback": [
      "\u001b[1;31m---------------------------------------------------------------------------\u001b[0m",
      "\u001b[1;31mFileNotFoundError\u001b[0m                         Traceback (most recent call last)",
      "Cell \u001b[1;32mIn[12], line 1\u001b[0m\n\u001b[1;32m----> 1\u001b[0m \u001b[38;5;28;01mwith\u001b[39;00m \u001b[38;5;28;43mopen\u001b[39;49m\u001b[43m(\u001b[49m\u001b[38;5;124;43m'\u001b[39;49m\u001b[38;5;124;43mtexto.txt\u001b[39;49m\u001b[38;5;124;43m'\u001b[39;49m\u001b[43m,\u001b[49m\u001b[43m \u001b[49m\u001b[38;5;124;43m'\u001b[39;49m\u001b[38;5;124;43mr\u001b[39;49m\u001b[38;5;124;43m'\u001b[39;49m\u001b[43m)\u001b[49m \u001b[38;5;28;01mas\u001b[39;00m archivo:\n\u001b[0;32m      2\u001b[0m     lineas \u001b[38;5;241m=\u001b[39m archivo\u001b[38;5;241m.\u001b[39mreadlines()\n\u001b[0;32m      4\u001b[0m     \u001b[38;5;28;01mfor\u001b[39;00m indice, linea \u001b[38;5;129;01min\u001b[39;00m \u001b[38;5;28menumerate\u001b[39m(lineas, start\u001b[38;5;241m=\u001b[39m\u001b[38;5;241m1\u001b[39m):\n",
      "\u001b[1;31mFileNotFoundError\u001b[0m: [Errno 2] No such file or directory: 'texto.txt'"
     ]
    }
   ],
   "source": [
    "with open('texto.txt', 'r') as archivo:\n",
    "    lineas = archivo.readlines()\n",
    "    \n",
    "    for indice, linea in enumerate(lineas, start=1):\n",
    "        cantidad_palabras = len(linea.split())\n",
    "        print(f\"Línea {indice}: {cantidad_palabras} palabras\")\n"
   ]
  },
  {
   "cell_type": "code",
   "execution_count": null,
   "metadata": {},
   "outputs": [
    {
     "ename": "FileNotFoundError",
     "evalue": "[Errno 2] No such file or directory: 'registro.log'",
     "output_type": "error",
     "traceback": [
      "\u001b[1;31m---------------------------------------------------------------------------\u001b[0m",
      "\u001b[1;31mFileNotFoundError\u001b[0m                         Traceback (most recent call last)",
      "Cell \u001b[1;32mIn[13], line 1\u001b[0m\n\u001b[1;32m----> 1\u001b[0m \u001b[38;5;28;01mwith\u001b[39;00m \u001b[38;5;28;43mopen\u001b[39;49m\u001b[43m(\u001b[49m\u001b[38;5;124;43m'\u001b[39;49m\u001b[38;5;124;43mregistro.log\u001b[39;49m\u001b[38;5;124;43m'\u001b[39;49m\u001b[43m,\u001b[49m\u001b[43m \u001b[49m\u001b[38;5;124;43m'\u001b[39;49m\u001b[38;5;124;43mr\u001b[39;49m\u001b[38;5;124;43m'\u001b[39;49m\u001b[43m)\u001b[49m \u001b[38;5;28;01mas\u001b[39;00m archivo:\n\u001b[0;32m      2\u001b[0m     lineas \u001b[38;5;241m=\u001b[39m archivo\u001b[38;5;241m.\u001b[39mreadlines()\n\u001b[0;32m      4\u001b[0m     \u001b[38;5;28;01mfor\u001b[39;00m indice, linea \u001b[38;5;129;01min\u001b[39;00m \u001b[38;5;28menumerate\u001b[39m(lineas, start\u001b[38;5;241m=\u001b[39m\u001b[38;5;241m1\u001b[39m):\n",
      "\u001b[1;31mFileNotFoundError\u001b[0m: [Errno 2] No such file or directory: 'registro.log'"
     ]
    }
   ],
   "source": [
    "with open('registro.log', 'r') as archivo:\n",
    "    lineas = archivo.readlines()\n",
    "    \n",
    "    for indice, linea in enumerate(lineas, start=1):\n",
    "        if \"error\" in linea.lower():\n",
    "            print(f\"Línea {indice}: {linea.strip()}\")  # strip() para eliminar los espacios en blanco adicionales\n"
   ]
  },
  {
   "cell_type": "markdown",
   "metadata": {},
   "source": [
    "También se puede leer un fichero utilizando la instrucción estándar with de la siguiente forma:"
   ]
  },
  {
   "cell_type": "code",
   "execution_count": null,
   "metadata": {},
   "outputs": [
    {
     "name": "stdout",
     "output_type": "stream",
     "text": [
      "Una línea con texto\n",
      "\n",
      "Otra línea con texto\n",
      "\n",
      "Esta es una nueva línea añadida al archivo\n"
     ]
    }
   ],
   "source": [
    "with open(\"fichero.txt\", \"r\") as fichero:\n",
    "    for linea in fichero:\n",
    "        print(linea)"
   ]
  },
  {
   "cell_type": "markdown",
   "metadata": {},
   "source": [
    "**Explicación**\n",
    "Se utiliza la función open() para abrir el archivo \"fichero.txt\" en modo de lectura (\"r\"). La opción \"r\" indica que el archivo se abrirá en modo de lectura, lo que permite al código leer el contenido del archivo.\n",
    "\n",
    "Se utiliza un bloque with en conjunto con open() para garantizar que el archivo se cierre correctamente después de su uso. Esto es importante para liberar los recursos del sistema operativo asociados con el archivo y garantizar que no haya bloqueos ni pérdida de datos.\n",
    "\n",
    "Se itera a través del objeto fichero, que es el archivo abierto. Python trata los archivos abiertos como iterables, por lo que podemos iterar sobre ellos directamente en un bucle for.\n",
    "\n",
    "Dentro del bucle for, cada iteración devuelve una línea del archivo, que se almacena en la variable linea.\n",
    "\n",
    "Se imprime la línea en la consola utilizando la función print().\n",
    "\n",
    "Después de que el bloque with finalice, Python automáticamente cerrará el archivo, independientemente de si hubo alguna excepción durante la ejecución del código dentro del bloque with.\n",
    "\n",
    "En resumen, este código abre el archivo \"fichero.txt\", lo lee línea por línea y luego imprime cada línea en la consola. Es una forma eficiente y segura de leer y trabajar con archivos en Python.\n",
    "\n",
    "\n",
    "\n",
    "\n",
    "\n",
    "\n",
    "\n",
    "\n"
   ]
  },
  {
   "cell_type": "markdown",
   "metadata": {},
   "source": [
    "**Ejercicios similares**"
   ]
  },
  {
   "cell_type": "code",
   "execution_count": null,
   "metadata": {},
   "outputs": [
    {
     "ename": "FileNotFoundError",
     "evalue": "[Errno 2] No such file or directory: 'texto.txt'",
     "output_type": "error",
     "traceback": [
      "\u001b[1;31m---------------------------------------------------------------------------\u001b[0m",
      "\u001b[1;31mFileNotFoundError\u001b[0m                         Traceback (most recent call last)",
      "Cell \u001b[1;32mIn[16], line 1\u001b[0m\n\u001b[1;32m----> 1\u001b[0m \u001b[38;5;28;01mwith\u001b[39;00m \u001b[38;5;28;43mopen\u001b[39;49m\u001b[43m(\u001b[49m\u001b[38;5;124;43m\"\u001b[39;49m\u001b[38;5;124;43mtexto.txt\u001b[39;49m\u001b[38;5;124;43m\"\u001b[39;49m\u001b[43m,\u001b[49m\u001b[43m \u001b[49m\u001b[38;5;124;43m\"\u001b[39;49m\u001b[38;5;124;43mr\u001b[39;49m\u001b[38;5;124;43m\"\u001b[39;49m\u001b[43m)\u001b[49m \u001b[38;5;28;01mas\u001b[39;00m archivo:\n\u001b[0;32m      2\u001b[0m     \u001b[38;5;28;01mfor\u001b[39;00m num_linea, linea \u001b[38;5;129;01min\u001b[39;00m \u001b[38;5;28menumerate\u001b[39m(archivo, start\u001b[38;5;241m=\u001b[39m\u001b[38;5;241m1\u001b[39m):\n\u001b[0;32m      3\u001b[0m         num_palabras \u001b[38;5;241m=\u001b[39m \u001b[38;5;28mlen\u001b[39m(linea\u001b[38;5;241m.\u001b[39msplit())\n",
      "\u001b[1;31mFileNotFoundError\u001b[0m: [Errno 2] No such file or directory: 'texto.txt'"
     ]
    }
   ],
   "source": [
    "with open(\"texto.txt\", \"r\") as archivo:\n",
    "    for num_linea, linea in enumerate(archivo, start=1):\n",
    "        num_palabras = len(linea.split())\n",
    "        print(f\"Línea {num_linea}: {num_palabras} palabras\")\n"
   ]
  },
  {
   "cell_type": "code",
   "execution_count": null,
   "metadata": {},
   "outputs": [],
   "source": [
    "palabra_buscar = \"error\"\n",
    "with open(\"registro.log\", \"r\") as archivo:\n",
    "    for num_linea, linea in enumerate(archivo, start=1):\n",
    "        if palabra_buscar in linea:\n",
    "            print(f\"Línea {num_linea}: {linea.strip()}\")\n"
   ]
  },
  {
   "cell_type": "markdown",
   "metadata": {},
   "source": [
    "**Extensión**"
   ]
  },
  {
   "cell_type": "code",
   "execution_count": null,
   "metadata": {},
   "outputs": [],
   "source": [
    "Este modo nos permite añadir datos al final de un fichero:"
   ]
  },
  {
   "cell_type": "code",
   "execution_count": null,
   "metadata": {},
   "outputs": [],
   "source": [
    "from io import open\n",
    "\n",
    "# Ruta donde leeremos el fichero, a indica extensión (puntero al final)\n",
    "fichero = open('fichero.txt','a')\n",
    "\n",
    "fichero.write('\\nOtra línea más abajo del todo')\n",
    "\n",
    "fichero.close()"
   ]
  },
  {
   "cell_type": "markdown",
   "metadata": {},
   "source": [
    "**Explicación**\n",
    "Se importa la clase open desde el módulo io. Esta clase se utiliza para abrir archivos en diferentes modos de operación (lectura, escritura, añadir, etc.).\n",
    "\n",
    "Se abre el archivo 'fichero.txt' en modo de añadir ('a'). El modo 'a' indica que se agregará contenido al final del archivo, manteniendo el contenido existente intacto. Es importante notar que si el archivo no existe, se creará uno nuevo.\n",
    "\n",
    "Se utiliza el método write() para agregar la cadena '\\nOtra línea más abajo del todo' al archivo. La '\\n' indica un salto de línea, por lo que la nueva línea se escribirá en una línea separada al final del archivo.\n",
    "\n",
    "Se cierra el archivo utilizando el método close(). Es importante cerrar el archivo después de trabajar con él para liberar los recursos del sistema operativo asociados con él y asegurarse de que todos los datos se escriban correctamente.\n",
    "\n",
    "En resumen, este código agrega una nueva línea al final del archivo 'fichero.txt'. Si el archivo no existe, se crea uno nuevo y luego se agrega la línea especificada. Si el archivo ya tiene contenido, esta nueva línea se agregará al final sin modificar el contenido existente.\n"
   ]
  },
  {
   "cell_type": "markdown",
   "metadata": {},
   "source": [
    "**Ejemplos similares**"
   ]
  },
  {
   "cell_type": "code",
   "execution_count": null,
   "metadata": {},
   "outputs": [],
   "source": [
    "from io import open\n",
    "\n",
    "# Ruta donde leeremos el fichero, 'a' indica añadir (puntero al final)\n",
    "fichero = open('fichero.txt', 'a')\n",
    "\n",
    "# Añadimos varias líneas al final del archivo\n",
    "lineas_a_agregar = [\n",
    "    '\\nPrimera línea añadida',\n",
    "    '\\nSegunda línea añadida',\n",
    "    '\\nTercera línea añadida'\n",
    "]\n",
    "\n",
    "# Escribimos las líneas en el archivo\n",
    "for linea in lineas_a_agregar:\n",
    "    fichero.write(linea)\n",
    "\n",
    "# Cerramos el fichero\n",
    "fichero.close()\n"
   ]
  },
  {
   "cell_type": "code",
   "execution_count": null,
   "metadata": {},
   "outputs": [],
   "source": [
    "import csv\n",
    "\n",
    "# Ruta del archivo CSV, 'a' indica añadir (puntero al final)\n",
    "with open('datos.csv', 'a', newline='') as archivo_csv:\n",
    "    escritor_csv = csv.writer(archivo_csv)\n",
    "\n",
    "    # Datos que vamos a añadir al final del archivo CSV\n",
    "    nueva_fila = ['nuevo_dato1', 'nuevo_dato2', 'nuevo_dato3']\n",
    "\n",
    "    # Escribimos la nueva fila en el archivo CSV\n",
    "    escritor_csv.writerow(nueva_fila)\n"
   ]
  },
  {
   "cell_type": "markdown",
   "metadata": {},
   "source": [
    "La variante 'a+' permite crear el fichero si no existe:"
   ]
  },
  {
   "cell_type": "code",
   "execution_count": null,
   "metadata": {},
   "outputs": [],
   "source": [
    "fichero = open('fichero_inventado.txt','a+')"
   ]
  },
  {
   "cell_type": "markdown",
   "metadata": {},
   "source": [
    "**Explicación**\n",
    "Importar la clase open desde el módulo io:\n",
    "\n",
    "python\n",
    "Copiar código\n",
    "from io import open\n",
    "Esto importa la función open para abrir archivos.\n",
    "\n",
    "Abrir el archivo en modo a+:\n",
    "\n",
    "python\n",
    "Copiar código\n",
    "fichero = open('fichero_inventado.txt', 'a+')\n",
    "El modo 'a+' abre el archivo para añadir (a) y leer (+). Si el archivo no existe, lo crea. El puntero del archivo se posiciona al final.\n",
    "\n",
    "Posicionar el puntero al principio del archivo para leer su contenido:\n",
    "\n",
    "python\n",
    "Copiar código\n",
    "fichero.seek(0)\n",
    "Mueve el puntero al inicio del archivo para poder leerlo desde el principio.\n",
    "\n",
    "Leer el contenido del archivo:\n",
    "\n",
    "python\n",
    "Copiar código\n",
    "contenido = fichero.read()\n",
    "print('Contenido inicial del archivo:')\n",
    "print(contenido)\n",
    "Se lee el contenido completo del archivo y se imprime.\n",
    "\n",
    "Añadir una nueva línea al final del archivo:\n",
    "\n",
    "python\n",
    "Copiar código\n",
    "fichero.write('\\nNueva línea añadida al archivo')\n",
    "Se escribe una nueva línea al final del archivo. La \\n asegura que la nueva línea se añade en una línea separada.\n",
    "\n",
    "Posicionar el puntero al principio del archivo para leer el nuevo contenido:\n",
    "\n",
    "python\n",
    "Copiar código\n",
    "fichero.seek(0)\n",
    "Nuevamente mueve el puntero al inicio del archivo para leer el contenido actualizado.\n",
    "\n",
    "Leer el nuevo contenido del archivo:\n",
    "\n",
    "python\n",
    "Copiar código\n",
    "nuevo_contenido = fichero.read()\n",
    "print('Contenido actualizado del archivo:')\n",
    "print(nuevo_contenido)\n",
    "Se lee el nuevo contenido del archivo después de añadir la línea y se imprime.\n",
    "\n",
    "Cerrar el archivo:\n",
    "\n",
    "python\n",
    "Copiar código\n",
    "fichero.close()\n",
    "Cierra el archivo, liberando los recursos del sistema asociados con él.\n",
    "\n",
    "Este conjunto de operaciones permite abrir un archivo para lectura y escritura, leer su contenido, añadir nuevas líneas, y leer el contenido actualizado, todo en un solo flujo de trabajo."
   ]
  },
  {
   "cell_type": "markdown",
   "metadata": {},
   "source": [
    "**Ejemplos similares**"
   ]
  },
  {
   "cell_type": "code",
   "execution_count": null,
   "metadata": {},
   "outputs": [],
   "source": [
    "from io import open\n",
    "\n",
    "# Abrir o crear el archivo en modo de añadir y leer ('a+')\n",
    "fichero = open('archivo_texto.txt', 'a+')\n",
    "\n",
    "# Añadir una nueva línea al final del archivo\n",
    "fichero.write('\\nPrimera línea añadida.')\n",
    "\n",
    "# Posicionar el puntero al principio del archivo para leer el contenido\n",
    "fichero.seek(0)\n",
    "\n",
    "# Leer el contenido completo del archivo\n",
    "contenido = fichero.read()\n",
    "print('Contenido del archivo:')\n",
    "print(contenido)\n",
    "\n",
    "# Cerrar el archivo\n",
    "fichero.close()\n"
   ]
  },
  {
   "cell_type": "code",
   "execution_count": null,
   "metadata": {},
   "outputs": [],
   "source": [
    "from io import open\n",
    "from datetime import datetime\n",
    "\n",
    "# Abrir o crear el archivo de log en modo de añadir y leer ('a+')\n",
    "log_file = open('log.txt', 'a+')\n",
    "\n",
    "# Añadir una nueva entrada de log con la fecha y hora actual\n",
    "log_file.write(f'\\nRegistro de log: {datetime.now()} - Nueva entrada de log.')\n",
    "\n",
    "# Posicionar el puntero al principio del archivo para leer el contenido\n",
    "log_file.seek(0)\n",
    "\n",
    "# Leer el contenido completo del archivo de log\n",
    "contenido_log = log_file.read()\n",
    "print('Contenido del archivo de log:')\n",
    "print(contenido_log)\n",
    "\n",
    "# Cerrar el archivo\n",
    "log_file.close()\n"
   ]
  },
  {
   "cell_type": "markdown",
   "metadata": {},
   "source": [
    "**Manejando el puntero**"
   ]
  },
  {
   "cell_type": "markdown",
   "metadata": {},
   "source": [
    "Es posible posicionar el puntero en el fichero manualmente usando el método **seek** e indicando un número de caracteres para luego leer una cantidad de caracteres con el método read:"
   ]
  },
  {
   "cell_type": "code",
   "execution_count": null,
   "metadata": {},
   "outputs": [
    {
     "data": {
      "text/plain": [
       "'Una línea '"
      ]
     },
     "execution_count": 19,
     "metadata": {},
     "output_type": "execute_result"
    }
   ],
   "source": [
    "fichero = open('fichero.txt','r')\n",
    "fichero.seek(0)   # Puntero al principio\n",
    "fichero.read(10)  # Leemos 10 carácteres"
   ]
  },
  {
   "cell_type": "markdown",
   "metadata": {},
   "source": [
    "**Explicación*\n",
    "\n",
    "\n",
    "Se utiliza la función open para abrir un archivo llamado 'fichero.txt' en modo de lectura ('r'). Si el archivo no existe, Python lanzará un error.\n",
    "\n",
    "Posicionar el puntero al principio del archivo:\n",
    "\n",
    "\n",
    "fichero.seek(0)\n",
    "El método seek(0) mueve el puntero de lectura/escritura al principio del archivo. En este caso, aunque el archivo ya se abre con el puntero al principio, es una buena práctica para asegurarse de que comenzamos a leer desde el inicio del archivo.\n",
    "\n",
    "Leer los primeros 10 caracteres del archivo:\n",
    "\n",
    "\n",
    "fichero.read(10)\n",
    "El método read(10) lee los primeros 10 caracteres desde la posición actual del puntero. Después de leer los 10 caracteres, el puntero se moverá 10 posiciones hacia adelante en el archivo.\n",
    "\n",
    "El código completo realiza las siguientes operaciones:\n",
    "\n",
    "Abre un archivo en modo de lectura.\n",
    "Asegura que el puntero de lectura esté al principio del archivo.\n",
    "Lee los primeros 10 caracteres del archivo.\n",
    "Para mostrar cómo se podría ver el código completo con la lectura almacenada e impresa, podría ser algo así:\n",
    "\n",
    "\n",
    "from io import open\n",
    "\n",
    "# Abrir el archivo en modo de lectura\n",
    "fichero = open('fichero.txt', 'r')\n",
    "\n",
    "# Posicionar el puntero al principio del archivo\n",
    "fichero.seek(0)\n",
    "\n",
    "# Leer los primeros 10 caracteres\n",
    "primeros_diez_caracteres = fichero.read(10)\n",
    "\n",
    "# Imprimir los 10 caracteres leídos\n",
    "print(primeros_diez_caracteres)\n",
    "\n",
    "# Cerrar el archivo\n",
    "fichero.close()\n",
    "En este caso, primeros_diez_caracteres contendrá los primeros 10 caracteres leídos del archivo 'fichero.txt', y luego se imprimen en la consola. Finalmente, el archivo se cierra para liberar los recursos del sistema asociados con él."
   ]
  },
  {
   "cell_type": "markdown",
   "metadata": {},
   "source": [
    "**Ejemplos similares*\n"
   ]
  },
  {
   "cell_type": "code",
   "execution_count": null,
   "metadata": {},
   "outputs": [],
   "source": [
    "from io import open\n",
    "\n",
    "# Abrir el archivo en modo de lectura\n",
    "fichero = open('fichero.txt', 'r')\n",
    "\n",
    "# Posicionar el puntero al principio del archivo\n",
    "fichero.seek(0)\n",
    "\n",
    "# Leer los primeros 20 caracteres\n",
    "primeros_veinte_caracteres = fichero.read(20)\n",
    "\n",
    "# Imprimir los 20 caracteres leídos\n",
    "print(primeros_veinte_caracteres)\n",
    "\n",
    "# Cerrar el archivo\n",
    "fichero.close()\n"
   ]
  },
  {
   "cell_type": "code",
   "execution_count": null,
   "metadata": {},
   "outputs": [],
   "source": [
    "from io import open\n",
    "\n",
    "# Abrir el archivo en modo de lectura\n",
    "fichero = open('fichero.txt', 'r')\n",
    "\n",
    "# Posicionar el puntero al principio del archivo\n",
    "fichero.seek(0)\n",
    "\n",
    "# Leer los primeros 15 caracteres\n",
    "primeros_quince_caracteres = fichero.read(15)\n",
    "print('Primeros 15 caracteres:', primeros_quince_caracteres)\n",
    "\n",
    "# Leer otros 5 caracteres adicionales\n",
    "cinco_caracteres_adicionales = fichero.read(5)\n",
    "print('Cinco caracteres adicionales:', cinco_caracteres_adicionales)\n",
    "\n",
    "# Cerrar el archivo\n",
    "fichero.close()\n"
   ]
  },
  {
   "cell_type": "code",
   "execution_count": null,
   "metadata": {},
   "outputs": [
    {
     "data": {
      "text/plain": [
       "'\\nOtra línea con texto\\nEsta es una nueva línea añadida al archivo\\nOtra línea más abajo del todo'"
      ]
     },
     "execution_count": 20,
     "metadata": {},
     "output_type": "execute_result"
    }
   ],
   "source": [
    "fichero = open('fichero.txt','r')\n",
    "fichero.seek(0)\n",
    "\n",
    "# Leemos la primera línea y situamos el puntero al principio de la segunda\n",
    "fichero.seek( len(fichero.readline()) )\n",
    "\n",
    "# Leemos todo lo que queda del puntero hasta el final\n",
    "fichero.read()"
   ]
  },
  {
   "cell_type": "markdown",
   "metadata": {},
   "source": [
    "**Explicación*\n",
    "\n",
    "Abrir el archivo en modo de lectura:\n",
    "\n",
    "fichero = open('fichero.txt', 'r')\n",
    "Se utiliza la función open para abrir un archivo llamado 'fichero.txt' en modo de lectura ('r'). Si el archivo no existe, Python lanzará un error.\n",
    "\n",
    "Posicionar el puntero al principio del archivo:\n",
    "\n",
    "\n",
    "fichero.seek(0)\n",
    "El método seek(0) mueve el puntero de lectura/escritura al principio del archivo. Este paso garantiza que comenzamos a leer desde el inicio del archivo.\n",
    "\n",
    "Leer la primera línea y situar el puntero al principio de la segunda:\n",
    "\n",
    "\n",
    "fichero.seek(len(fichero.readline()))\n",
    "fichero.readline() lee la primera línea del archivo y mueve el puntero al inicio de la segunda línea.\n",
    "len(fichero.readline()) obtiene la longitud de la primera línea (incluyendo el carácter de nueva línea \\n).\n",
    "fichero.seek(len(fichero.readline())) mueve el puntero a la posición calculada por la longitud de la primera línea. Sin embargo, esta línea tal y como está escrita, realiza fichero.readline() dos veces, lo cual podría generar un comportamiento inesperado. El puntero ya está al inicio de la segunda línea después de la primera readline(). El método seek() no es necesario aquí. Puedes simplificarlo directamente a:\n",
    "\n",
    "fichero.readline()  # Lee la primera línea, el puntero ya está al inicio de la segunda\n",
    "Leer todo lo que queda del puntero hasta el final:\n",
    "\n",
    "\n",
    "fichero.read()\n",
    "Este método lee todo el contenido restante desde la posición actual del puntero (que ahora está al inicio de la segunda línea) hasta el final del archivo.\n",
    "\n",
    "El código completo realiza las siguientes operaciones:\n",
    "\n",
    "Abre un archivo en modo de lectura.\n",
    "Asegura que el puntero de lectura esté al principio del archivo.\n",
    "Lee la primera línea del archivo (y deja el puntero al inicio de la segunda línea).\n",
    "Lee el contenido restante del archivo desde la segunda línea hasta el final."
   ]
  },
  {
   "cell_type": "markdown",
   "metadata": {},
   "source": [
    "**Ejercicios similares**"
   ]
  },
  {
   "cell_type": "code",
   "execution_count": null,
   "metadata": {},
   "outputs": [],
   "source": [
    "from io import open\n",
    "\n",
    "# Abrir el archivo en modo de lectura\n",
    "fichero = open('fichero.txt', 'r')\n",
    "\n",
    "# Leer la primera línea\n",
    "primera_linea = fichero.readline()\n",
    "print('Primera línea:', primera_linea.strip())\n",
    "\n",
    "# Leer la segunda línea\n",
    "segunda_linea = fichero.readline()\n",
    "print('Segunda línea:', segunda_linea.strip())\n",
    "\n",
    "# Leer el resto del archivo desde la tercera línea hasta el final\n",
    "contenido_restante = fichero.read()\n",
    "print('Contenido restante del archivo:')\n",
    "print(contenido_restante)\n",
    "\n",
    "# Cerrar el archivo\n",
    "fichero.close()\n"
   ]
  },
  {
   "cell_type": "code",
   "execution_count": null,
   "metadata": {},
   "outputs": [],
   "source": [
    "from io import open\n",
    "\n",
    "# Abrir el archivo en modo de lectura\n",
    "fichero = open('fichero.txt', 'r')\n",
    "\n",
    "# Leer la primera línea\n",
    "primera_linea = fichero.readline()\n",
    "print('Primera línea:', primera_linea.strip())\n",
    "\n",
    "# Saltar la segunda línea\n",
    "fichero.readline()  # Leer y descartar la segunda línea\n",
    "\n",
    "# Leer el resto del archivo desde la tercera línea hasta el final\n",
    "contenido_restante = fichero.read()\n",
    "print('Contenido restante del archivo:')\n",
    "print(contenido_restante)\n",
    "\n",
    "# Cerrar el archivo\n",
    "fichero.close()\n"
   ]
  },
  {
   "cell_type": "markdown",
   "metadata": {},
   "source": [
    "**Lectura con escritura**"
   ]
  },
  {
   "cell_type": "markdown",
   "metadata": {},
   "source": [
    "Se puede abrir un fichero en modo lectura con escritura, pero éste debe existir préviamente. Además por defecto el puntero estará al principio y si escribimos algo sobreescribiremos el contenido actual, así que prestad atención a los saltos de línea y caracteres especiales:"
   ]
  },
  {
   "cell_type": "code",
   "execution_count": null,
   "metadata": {},
   "outputs": [],
   "source": [
    "# Creamos un fichero de prueba con 4 líneas\n",
    "fichero = open('fichero2.txt','w')\n",
    "texto = \"Línea 1\\nLínea 2\\nLínea 3\\nLínea 4\"\n",
    "fichero.write(texto)\n",
    "fichero.close()\n",
    "\n",
    "# Lo abrimos en lectura con escritura y escribimos algo\n",
    "fichero = open('fichero2.txt','r+')\n",
    "fichero.write(\"0123456\")\n",
    "\n",
    "# Volvemos a ponter el puntero al inicio y leemos hasta el final\n",
    "fichero.seek(0)\n",
    "fichero.read()\n",
    "fichero.close()"
   ]
  },
  {
   "cell_type": "markdown",
   "metadata": {},
   "source": [
    "**Explicación**\n",
    "Paso 1: Crear un archivo de prueba con 4 líneas\n",
    "\n",
    "fichero = open('fichero2.txt', 'w')\n",
    "texto = \"Línea 1\\nLínea 2\\nLínea 3\\nLínea 4\"\n",
    "fichero.write(texto)\n",
    "fichero.close()\n",
    "fichero = open('fichero2.txt', 'w'): Abre (o crea si no existe) un archivo llamado 'fichero2.txt' en modo de escritura ('w'). Si el archivo ya existe, su contenido será borrado.\n",
    "texto = \"Línea 1\\nLínea 2\\nLínea 3\\nLínea 4\": Define una cadena de texto con cuatro líneas, separadas por saltos de línea (\\n).\n",
    "fichero.write(texto): Escribe el texto en el archivo.\n",
    "fichero.close(): Cierra el archivo, guardando los cambios.\n",
    "Después de este paso, el archivo 'fichero2.txt' contiene:\n",
    "\n",
    "Línea 1\n",
    "Línea 2\n",
    "Línea 3\n",
    "Línea 4\n",
    "Paso 2: Abrir el archivo en modo lectura y escritura y escribir algo\n",
    "\n",
    "fichero = open('fichero2.txt', 'r+')\n",
    "fichero.write(\"0123456\")\n",
    "fichero = open('fichero2.txt', 'r+'): Abre el archivo 'fichero2.txt' en modo de lectura y escritura ('r+'). Este modo permite leer y escribir en el archivo sin borrar su contenido.\n",
    "fichero.write(\"0123456\"): Escribe la cadena \"0123456\" al inicio del archivo. Esto reemplaza los primeros 7 caracteres del archivo original.\n",
    "Después de este paso, el archivo 'fichero2.txt' contiene:\n",
    "\n",
    "\n",
    "0123456\n",
    "ínea 2\n",
    "Línea 3\n",
    "Línea 4\n",
    "El texto \"Línea 1\" ha sido parcialmente reemplazado por \"0123456\".\n",
    "\n",
    "Paso 3: Volver a poner el puntero al inicio y leer hasta el final\n",
    "\n",
    "fichero.seek(0)\n",
    "fichero.read()\n",
    "fichero.close()\n",
    "fichero.seek(0): Mueve el puntero de lectura/escritura al principio del archivo.\n",
    "fichero.read(): Lee todo el contenido del archivo desde la posición actual del puntero (que está al principio) hasta el final. El resultado de esta lectura no se guarda ni se imprime, pero en un contexto real probablemente se almacenaría en una variable o se mostraría de alguna forma.\n",
    "fichero.close(): Cierra el archivo.\n",
    "Resumen\n",
    "Se crea y escribe un archivo 'fichero2.txt' con cuatro líneas de texto.\n",
    "Se abre el archivo en modo de lectura y escritura y se reemplazan los primeros 7 caracteres con \"0123456\".\n",
    "Se reposiciona el puntero al inicio del archivo y se lee todo el contenido desde el principio hasta el final."
   ]
  },
  {
   "cell_type": "markdown",
   "metadata": {},
   "source": [
    "**Ejemplos similares**"
   ]
  },
  {
   "cell_type": "code",
   "execution_count": null,
   "metadata": {},
   "outputs": [],
   "source": [
    "# Creamos un archivo de prueba con 4 líneas\n",
    "with open('archivo_prueba.txt', 'w') as fichero:\n",
    "    texto = \"Línea 1\\nLínea 2\\nLínea 3\\nLínea 4\"\n",
    "    fichero.write(texto)\n",
    "\n",
    "# Abrimos el archivo en modo de lectura y escritura\n",
    "with open('archivo_prueba.txt', 'r+') as fichero:\n",
    "    # Escribimos algo en el archivo\n",
    "    fichero.write(\"0123456\")\n",
    "    # Reposicionamos el puntero al inicio\n",
    "    fichero.seek(0)\n",
    "    # Leemos todo el contenido y lo imprimimos\n",
    "    contenido = fichero.read()\n",
    "    print(contenido)\n"
   ]
  },
  {
   "cell_type": "code",
   "execution_count": null,
   "metadata": {},
   "outputs": [],
   "source": [
    "# Creamos un archivo de prueba con 4 líneas\n",
    "with open('archivo_prueba.txt', 'w') as fichero:\n",
    "    texto = \"Línea 1\\nLínea 2\\nLínea 3\\nLínea 4\"\n",
    "    fichero.write(texto)\n",
    "\n",
    "# Abrimos el archivo en modo de lectura y escritura\n",
    "with open('archivo_prueba.txt', 'r+') as fichero:\n",
    "    # Reposicionamos el puntero al inicio\n",
    "    fichero.seek(0)\n",
    "    # Agregamos algo al inicio del archivo\n",
    "    fichero.write(\"Inicio: \")\n",
    "    # Reposicionamos el puntero al inicio\n",
    "    fichero.seek(0)\n",
    "    # Leemos todo el contenido y lo imprimimos\n",
    "    contenido = fichero.read()\n",
    "    print(contenido)\n"
   ]
  },
  {
   "cell_type": "markdown",
   "metadata": {},
   "source": [
    "**Modificar una línea**"
   ]
  },
  {
   "cell_type": "markdown",
   "metadata": {},
   "source": [
    "Para lograr este fin lo mejor es leer todas las líneas en una lista, modificar la línea en la lista, posicionar el puntero al principio y reescribir de nuevo todas las líneas:"
   ]
  },
  {
   "cell_type": "code",
   "execution_count": null,
   "metadata": {},
   "outputs": [
    {
     "name": "stdout",
     "output_type": "stream",
     "text": [
      "0123456\n",
      "Esta es la línea 3 modificada\n",
      "Esta es la línea 3 modificada\n",
      "Línea 4\n",
      "Línea 4ea 4\n"
     ]
    }
   ],
   "source": [
    "fichero = open('fichero2.txt','r+')\n",
    "texto = fichero.readlines()\n",
    "\n",
    "# Modificamos la línea que queramos a partir del índice\n",
    "texto[2] = \"Esta es la línea 3 modificada\\n\"\n",
    "\n",
    "# Volvemos a ponter el puntero al inicio y reescribimos\n",
    "fichero.seek(0)\n",
    "fichero.writelines(texto)\n",
    "fichero.close()\n",
    "\n",
    "# Leemos el fichero de nuevo\n",
    "with open(\"fichero2.txt\", \"r\") as fichero:\n",
    "    print(fichero.read())"
   ]
  },
  {
   "cell_type": "markdown",
   "metadata": {},
   "source": [
    "**Explicación**\n",
    "Abrir el archivo en modo de lectura y escritura ('r+'):\n",
    "\n",
    "\n",
    "fichero = open('fichero2.txt','r+')\n",
    "Se utiliza la función open para abrir el archivo 'fichero2.txt' en modo de lectura y escritura ('r+'), lo que permite tanto leer como escribir en el archivo.\n",
    "Leer todas las líneas del archivo:\n",
    "\n",
    "\n",
    "texto = fichero.readlines()\n",
    "El método readlines() lee todas las líneas del archivo y las almacena en una lista llamada texto.\n",
    "Modificar la línea deseada en la lista de líneas:\n",
    "\n",
    "\n",
    "texto[2] = \"Esta es la línea 3 modificada\\n\"\n",
    "Se modifica la tercera línea del archivo (índice 2 en Python, ya que la indexación comienza desde 0) en la lista texto con una nueva línea.\n",
    "Reescribir todo el contenido del archivo con las líneas modificadas:\n",
    "\n",
    "fichero.seek(0)\n",
    "fichero.writelines(texto)\n",
    "Se reposiciona el puntero al inicio del archivo con seek(0).\n",
    "Luego, el método writelines() es utilizado para escribir todas las líneas de la lista texto en el archivo, reemplazando así su contenido original.\n",
    "Cerrar el archivo:\n",
    "\n",
    "\n",
    "fichero.close()\n",
    "Se cierra el archivo para liberar recursos del sistema.\n",
    "Leer el archivo de nuevo e imprimir su contenido:\n",
    "\n",
    "\n",
    "with open(\"fichero2.txt\", \"r\") as fichero:\n",
    "    print(fichero.read())\n",
    "Se utiliza un bloque with para abrir el archivo 'fichero2.txt' en modo de lectura.\n",
    "Se lee el contenido del archivo utilizando el método read() y se imprime en la consola.\n",
    "En resumen, este código abre un archivo en modo de lectura y escritura, modifica una línea específica dentro de él, y luego lo vuelve a leer y muestra el contenido actualizado."
   ]
  },
  {
   "cell_type": "markdown",
   "metadata": {},
   "source": [
    "**Ejemplos similares**"
   ]
  },
  {
   "cell_type": "code",
   "execution_count": null,
   "metadata": {},
   "outputs": [],
   "source": [
    "# Abrir el archivo en modo de lectura y escritura\n",
    "with open('archivo.txt', 'r+') as fichero:\n",
    "    # Leer todas las líneas del archivo\n",
    "    lineas = fichero.readlines()\n",
    "\n",
    "    # Eliminar la tercera línea del archivo (por ejemplo)\n",
    "    del lineas[2]\n",
    "\n",
    "    # Reposicionar el puntero al inicio del archivo\n",
    "    fichero.seek(0)\n",
    "\n",
    "    # Escribir todas las líneas modificadas en el archivo\n",
    "    fichero.writelines(lineas)\n",
    "\n",
    "    # Truncar el archivo para eliminar el contenido restante si es necesario\n",
    "    fichero.truncate()\n"
   ]
  },
  {
   "cell_type": "code",
   "execution_count": null,
   "metadata": {},
   "outputs": [],
   "source": [
    "# Abrir el archivo en modo de lectura y escritura\n",
    "with open('archivo.txt', 'a+') as fichero:\n",
    "    # Agregar líneas adicionales al final del archivo\n",
    "    nuevas_lineas = [\"Nueva línea 1\\n\", \"Nueva línea 2\\n\"]\n",
    "    fichero.writelines(nuevas_lineas)\n",
    "\n",
    "    # Reposicionar el puntero al inicio del archivo\n",
    "    fichero.seek(0)\n",
    "\n",
    "    # Leer y mostrar el contenido completo del archivo\n",
    "    print(fichero.read())\n"
   ]
  },
  {
   "cell_type": "markdown",
   "metadata": {},
   "source": [
    "## Módulo pickle"
   ]
  },
  {
   "cell_type": "markdown",
   "metadata": {},
   "source": [
    "Este módulo nos permite almacenar fácilmente colecciones y objetos en ficheros binarios abstrayendo todo la parte de escritura y lectura binaria."
   ]
  },
  {
   "cell_type": "markdown",
   "metadata": {},
   "source": [
    "**Escritura de colecciones**"
   ]
  },
  {
   "cell_type": "code",
   "execution_count": null,
   "metadata": {},
   "outputs": [],
   "source": [
    "import pickle\n",
    "\n",
    "# Podemos guardar lo que queramos, listas, diccionarios, tuplas...\n",
    "lista = [1,2,3,4,5]\n",
    "\n",
    "# Escritura en modo binario, vacía el fichero si existe\n",
    "fichero = open('lista.pckl','wb')\n",
    "\n",
    "# Escribe la colección en el fichero \n",
    "pickle.dump(lista, fichero) \n",
    "\n",
    "fichero.close()"
   ]
  },
  {
   "cell_type": "markdown",
   "metadata": {},
   "source": [
    "**Explicación**\n",
    "Importar el módulo pickle:\n",
    "\n",
    "\n",
    "import pickle\n",
    "El módulo pickle en Python permite serializar y deserializar objetos Python. La serialización es el proceso de convertir un objeto en una secuencia de bytes, y la deserialización es el proceso inverso.\n",
    "Definir una lista:\n",
    "\n",
    "\n",
    "lista = [1, 2, 3, 4, 5]\n",
    "Se crea una lista llamada lista que contiene los números del 1 al 5.\n",
    "Abrir un archivo en modo binario para escritura:\n",
    "\n",
    "\n",
    "fichero = open('lista.pckl', 'wb')\n",
    "Se utiliza la función open para abrir (o crear si no existe) un archivo llamado 'lista.pckl' en modo de escritura binaria ('wb'). El modo de escritura binaria ('wb') es necesario cuando se trabaja con el módulo pickle.\n",
    "Escribir la lista serializada en el archivo:\n",
    "\n",
    "\n",
    "pickle.dump(lista, fichero)\n",
    "El método pickle.dump() toma dos argumentos: el objeto que se va a serializar (en este caso, la lista lista) y el archivo en el que se va a escribir la serialización (en este caso, fichero). Este método serializa el objeto y escribe la secuencia de bytes en el archivo.\n",
    "Cerrar el archivo:\n",
    "\n",
    "\n",
    "fichero.close()\n",
    "Se cierra el archivo después de que se haya completado la escritura. Es importante cerrar el archivo para liberar recursos del sistema y garantizar que los datos se escriban correctamente en el disco.\n",
    "En resumen, este código toma una lista de Python, la serializa usando el módulo pickle, y escribe la representación serializada en un archivo binario llamado 'lista.pckl'. Este archivo puede ser luego leído y deserializado para recuperar la lista original.\n"
   ]
  },
  {
   "cell_type": "markdown",
   "metadata": {},
   "source": [
    "**Ejemplos similares**\n"
   ]
  },
  {
   "cell_type": "code",
   "execution_count": null,
   "metadata": {},
   "outputs": [],
   "source": [
    "import pickle\n",
    "\n",
    "# Creamos un diccionario de ejemplo\n",
    "datos = {'nombre': 'Juan', 'edad': 30, 'ciudad': 'Madrid'}\n",
    "\n",
    "# Abrimos un archivo en modo binario para escritura\n",
    "with open('datos.pkl', 'wb') as archivo:\n",
    "    # Escribimos el diccionario serializado en el archivo\n",
    "    pickle.dump(datos, archivo)\n"
   ]
  },
  {
   "cell_type": "code",
   "execution_count": null,
   "metadata": {},
   "outputs": [],
   "source": [
    "import pickle\n",
    "\n",
    "# Creamos una lista de tuplas como ejemplo\n",
    "lista_tuplas = [(1, 'a'), (2, 'b'), (3, 'c')]\n",
    "\n",
    "# Abrimos un archivo en modo binario para escritura\n",
    "with open('tuplas.pkl', 'wb') as archivo:\n",
    "    # Escribimos la lista serializada en el archivo\n",
    "    pickle.dump(lista_tuplas, archivo)\n"
   ]
  },
  {
   "cell_type": "markdown",
   "metadata": {},
   "source": [
    "**Lectura de colecciones**"
   ]
  },
  {
   "cell_type": "code",
   "execution_count": null,
   "metadata": {},
   "outputs": [],
   "source": [
    "# Lectura en modo binario \n",
    "fichero = open('lista.pckl','rb') "
   ]
  },
  {
   "cell_type": "markdown",
   "metadata": {},
   "source": [
    "**Explicación**\n",
    "Abrir el archivo en modo de lectura binaria:\n",
    "\n",
    "fichero = open('lista.pckl', 'rb')\n",
    "open('lista.pckl', 'rb'): Utiliza la función open para abrir el archivo 'lista.pckl' en modo de lectura binaria ('rb').\n",
    "El modo de lectura binaria ('rb') se usa para leer archivos que contienen datos binarios, como archivos creados con el módulo pickle.\n",
    "Este código prepara el archivo 'lista.pckl' para ser leído en modo binario. Después de abrir el archivo de esta manera, puedes utilizar métodos como read(), readline(), o readlines() para leer el contenido del archivo binario. Y luego, recuerda cerrar el archivo utilizando fichero.close() cuando hayas terminado de leerlo para liberar los recursos del sistema.\n",
    "\n",
    "\n",
    "\n",
    "\n",
    "\n",
    "\n"
   ]
  },
  {
   "cell_type": "markdown",
   "metadata": {},
   "source": [
    "**Ejercicios similares**"
   ]
  },
  {
   "cell_type": "code",
   "execution_count": null,
   "metadata": {},
   "outputs": [],
   "source": [
    "import pickle\n",
    "\n",
    "# Abrir el archivo en modo de lectura binaria\n",
    "with open('datos.pkl', 'rb') as archivo:\n",
    "    # Cargar el objeto serializado desde el archivo\n",
    "    datos = pickle.load(archivo)\n",
    "\n",
    "# Imprimir el objeto cargado\n",
    "print(datos)\n"
   ]
  },
  {
   "cell_type": "code",
   "execution_count": null,
   "metadata": {},
   "outputs": [],
   "source": [
    "# Abrir el archivo en modo de lectura binaria\n",
    "with open('imagen.png', 'rb') as archivo:\n",
    "    # Leer el contenido del archivo binario\n",
    "    contenido = archivo.read()\n",
    "\n",
    "# Imprimir la longitud del contenido leído\n",
    "print(\"Longitud del archivo en bytes:\", len(contenido))\n"
   ]
  },
  {
   "cell_type": "code",
   "execution_count": null,
   "metadata": {},
   "outputs": [],
   "source": [
    "# Cargamos los datos del fichero\n",
    "lista_fichero = pickle.load(fichero)\n",
    "print(lista_fichero)\n",
    "\n",
    "fichero.close()"
   ]
  },
  {
   "cell_type": "markdown",
   "metadata": {},
   "source": [
    "\n",
    "**Explicación**\n",
    "Cargar datos desde el archivo binario usando pickle:\n",
    "\n",
    "python\n",
    "Copiar código\n",
    "lista_fichero = pickle.load(fichero)\n",
    "pickle.load(fichero): Utiliza la función pickle.load() para cargar datos desde el archivo binario abierto. En este caso, se carga en la variable lista_fichero lo que sea que esté almacenado en el archivo binario.\n",
    "fichero es el archivo binario previamente abierto en modo de lectura binaria ('rb'), y de donde se cargarán los datos.\n",
    "Imprimir los datos cargados:\n",
    "\n",
    "python\n",
    "Copiar código\n",
    "print(lista_fichero)\n",
    "Imprime los datos cargados desde el archivo binario en la consola. Esto mostrará el contenido que se ha cargado desde el archivo binario.\n",
    "Cerrar el archivo:\n",
    "\n",
    "python\n",
    "Copiar código\n",
    "fichero.close()\n",
    "Se cierra el archivo para liberar los recursos del sistema una vez que se han cargado los datos. Es una buena práctica cerrar el archivo después de leer o escribir en él.\n",
    "En resumen, este código carga datos desde un archivo binario utilizando el módulo pickle, los almacena en una variable llamada lista_fichero, imprime los datos cargados y luego cierra el archivo."
   ]
  },
  {
   "cell_type": "markdown",
   "metadata": {},
   "source": [
    "**Ejemplos similares**\n"
   ]
  },
  {
   "cell_type": "code",
   "execution_count": null,
   "metadata": {},
   "outputs": [],
   "source": [
    "import pickle\n",
    "\n",
    "# Abrir el archivo en modo de lectura binaria\n",
    "with open('datos.pkl', 'rb') as archivo:\n",
    "    # Cargar el diccionario desde el archivo\n",
    "    datos = pickle.load(archivo)\n",
    "\n",
    "# Imprimir el diccionario cargado\n",
    "print(datos)\n"
   ]
  },
  {
   "cell_type": "code",
   "execution_count": null,
   "metadata": {},
   "outputs": [],
   "source": [
    "import pickle\n",
    "\n",
    "# Abrir el archivo en modo de lectura binaria\n",
    "with open('lista.pkl', 'rb') as archivo:\n",
    "    # Cargar la lista desde el archivo\n",
    "    lista = pickle.load(archivo)\n",
    "\n",
    "# Imprimir la lista cargada\n",
    "print(lista)\n"
   ]
  },
  {
   "cell_type": "markdown",
   "metadata": {},
   "source": [
    "# **Ejercicios resueltos**"
   ]
  },
  {
   "cell_type": "markdown",
   "metadata": {},
   "source": [
    "### Para el siguiente par ejercicios debes explicar los códigos línea por línea y plantear otro problema similar que deberás resolver por tí mismo. "
   ]
  },
  {
   "cell_type": "markdown",
   "metadata": {},
   "source": [
    "1- En este ejercicio deberás crear un script llamado **personas.py** que lea los datos de un fichero de texto, que transforme cada fila del fichero de texto en un diccionario y lo añada a una lista de diccionarios llamado personas. Luego recorre las personas de la lista y para cada una muestra de forma amigable todos sus campos"
   ]
  },
  {
   "cell_type": "markdown",
   "metadata": {},
   "source": [
    "El fichero de texto se denominará **personas.txt** y tendrá el siguiente contenido en texto plano (créalo previamente):"
   ]
  },
  {
   "cell_type": "markdown",
   "metadata": {},
   "source": [
    "```\n",
    "1;Carlos;Pérez;05/01/1989\n",
    "2;Manuel;Heredia;26/12/1973\n",
    "3;Rosa;Campos;12/06/1961\n",
    "4;David;García;25/07/2006\n",
    "```"
   ]
  },
  {
   "cell_type": "markdown",
   "metadata": {},
   "source": [
    "Los campos del diccionario serán por orden: **id, nombre, apellido y nacimiento.**"
   ]
  },
  {
   "cell_type": "markdown",
   "metadata": {},
   "source": [
    "Si quieres leer un fichero que no se ha escrito directamente con Python, entonces es posible que encuentres errores de codificación al mostrar algunos caracteres. Asegúrate de indicar la codificación del fichero manualmente durante la apertura como argumento en el open, por ejemplo con UTF-8:"
   ]
  },
  {
   "cell_type": "markdown",
   "metadata": {},
   "source": [
    "```\n",
    "open(..., encoding=\"utf8\")\n",
    "```"
   ]
  },
  {
   "cell_type": "markdown",
   "metadata": {},
   "source": [
    "La solución del ejercicio se encuentra en los ficheros personas.txt y personas.py. Explique en el propio fichero personas.py o en una celda de este notebook el código linea mediante comentarios o celdas de texto"
   ]
  },
  {
   "cell_type": "markdown",
   "metadata": {},
   "source": [
    "2 - Escribir una función que pida un número entero entre 1 y 10 y guarde en un fichero con el nombre tabla-n.txt la tabla de multiplicar de ese número, donde n es el número introducido."
   ]
  },
  {
   "cell_type": "code",
   "execution_count": 48,
   "metadata": {},
   "outputs": [
    {
     "name": "stdout",
     "output_type": "stream",
     "text": [
      "La tabla de multiplicar del número 8 se ha guardado en 'tabla-8.txt'.\n"
     ]
    }
   ],
   "source": [
    "def tabla_de_multiplicar():\n",
    "    # Solicitar al usuario un número entero entre 1 y 10\n",
    "    numero = int(input(\"Introduce un número entero entre 1 y 10: \"))\n",
    "    \n",
    "    # Verificar si el número está dentro del rango permitido\n",
    "    if numero < 1 or numero > 10:\n",
    "        print(\"El número debe estar entre 1 y 10.\")\n",
    "        return\n",
    "    \n",
    "    # Crear el nombre del archivo\n",
    "    nombre_archivo = f\"tabla-{numero}.txt\"\n",
    "    \n",
    "    # Abrir el archivo en modo de escritura\n",
    "    with open(nombre_archivo, 'w') as archivo:\n",
    "        # Escribir la tabla de multiplicar en el archivo\n",
    "        for i in range(1, 11):\n",
    "            resultado = numero * i\n",
    "            archivo.write(f\"{numero} x {i} = {resultado}\\n\")\n",
    "    \n",
    "    print(f\"La tabla de multiplicar del número {numero} se ha guardado en '{nombre_archivo}'.\")\n",
    "\n",
    "# Llamar a la función para que se ejecute\n",
    "tabla_de_multiplicar()\n"
   ]
  }
 ],
 "metadata": {
  "kernelspec": {
   "display_name": "Python 3",
   "language": "python",
   "name": "python3"
  },
  "language_info": {
   "codemirror_mode": {
    "name": "ipython",
    "version": 3
   },
   "file_extension": ".py",
   "mimetype": "text/x-python",
   "name": "python",
   "nbconvert_exporter": "python",
   "pygments_lexer": "ipython3",
   "version": "3.11.9"
  }
 },
 "nbformat": 4,
 "nbformat_minor": 2
}
