{
 "cells": [
  {
   "cell_type": "markdown",
   "metadata": {},
   "source": [
    "# Excepciones y errores de Python"
   ]
  },
  {
   "cell_type": "markdown",
   "metadata": {},
   "source": [
    "\n",
    "\n",
    "En este artículo, aprenderá el manejo de errores y excepciones en Python.\n",
    "\n",
    "Al final del artículo, sabrás:\n",
    "\n",
    "Cómo controlar las excepciones mediante las instrucciones try, except y finally\n",
    "Cómo crear una excepción personalizada\n",
    "Cómo generar una excepción\n",
    "Cómo usar la excepción incorporada de manera efectiva para crear programas robustos de Python\n",
    "Excepciones de Python\n",
    "Excepciones de Python\n",
    "\n",
    "Tabla de contenidos\n",
    "¿Qué son las excepciones?\n",
    "¿Por qué usar la excepción?\n",
    "¿Qué son los errores?\n",
    "Error de sintaxis\n",
    "Errores lógicos (excepción)\n",
    "Excepciones integradas\n",
    "El try y except Bloquear para controlar excepciones\n",
    "Detección de excepciones específicas\n",
    "Controlar varias excepciones con una sola cláusula except\n",
    "Usando try con finally\n",
    "Uso de la cláusula try with else\n",
    "Generar excepciones\n",
    "Encadenamiento de excepciones\n",
    "Excepciones personalizadas y definidas por el usuario\n",
    "Personalización de clases de excepción\n",
    "Ciclo de vida de la excepción\n",
    "Advertencias"
   ]
  },
  {
   "cell_type": "markdown",
   "metadata": {},
   "source": [
    "# ¿Qué son las excepciones?\n",
    "Una excepción es un evento que ocurre durante la ejecución de programas que interrumpe el flujo normal de ejecución (por ejemplo, KeyError Raised cuando no se encuentra una clave en un diccionario). Una excepción es un objeto de Python que representa un error.\n",
    "En Python, una excepción es un objeto derivado de la clase BaseException que contiene información sobre un evento de error que se produjo dentro de un método. El objeto de excepción contiene:\n",
    "\n",
    "Tipo de error (nombre de la excepción)\n",
    "El estado del programa cuando se produjo el error\n",
    "Un mensaje de error describe el evento de error.\n",
    "Las excepciones son útiles para indicar diferentes tipos de posibles condiciones de fallo.\n",
    "\n",
    "Por ejemplo, a continuación se encuentran las pocas excepciones estándar\n",
    "\n",
    "FileNotFoundException\n",
    "ImportError\n",
    "RuntimeError\n",
    "NameError\n",
    "TypeError (Error de tipo)\n",
    "En Python, podemos lanzar una excepción en el bloque try y capturarla en el bloque except."
   ]
  },
  {
   "cell_type": "markdown",
   "metadata": {},
   "source": [
    "# ¿Por qué usar la excepción?\n",
    "Control de errores estandarizado: mediante excepciones integradas o la creación de una excepción personalizada con un nombre y una descripción más precisos, puede definir adecuadamente el evento de error, lo que le ayuda a depurar el evento de error.\n",
    "Código más limpio: las excepciones separan el código de control de errores del código normal, lo que nos ayuda a mantener fácilmente el código grande.\n",
    "Aplicación robusta: Con la ayuda de excepciones, podemos desarrollar una aplicación sólida, que puede manejar eventos de error de manera eficiente\n",
    "Propagación de excepciones: de forma predeterminada, la excepción propaga la pila de llamadas si no la detecta. Por ejemplo, si se ha producido algún evento de error en una función anidada, no es necesario capturarlo y reenviarlo explícitamente; Automáticamente, se reenvía a la función de llamada donde puede manejarlo.\n",
    "Diferentes tipos de error: puede usar la excepción incorporada o crear su excepción personalizada y agruparlas por su clase principal generalizada, o diferenciar los errores por su clase real"
   ]
  },
  {
   "cell_type": "markdown",
   "metadata": {},
   "source": [
    "# ¿Qué son los errores?\n",
    "Por otro lado, un error es una acción incorrecta o inexacta. Por ejemplo, error de sintaxis. Debido a lo cual el programa no se ejecuta.\n",
    "\n",
    "A grandes rasgos, los errores se pueden clasificar en dos tipos:\n",
    "\n",
    "Errores de sintaxis\n",
    "Errores lógicos\n",
    "Error de sintaxis\n",
    "El error de sintaxis se produce cuando no estamos siguiendo la estructura o sintaxis adecuada del lenguaje. Un error de sintaxis también se conoce como error de análisis.\n",
    "\n",
    "Cuando Python analiza el programa y encuentra una declaración incorrecta, se conoce como error de sintaxis. Cuando el analizador encuentra un error de sintaxis, sale con un mensaje de error sin ejecutar nada.\n",
    "\n",
    "Errores comunes de sintaxis de Python:\n",
    "\n",
    "Sangría incorrecta\n",
    "Faltan dos puntos, comas o corchetes\n",
    "Poner las palabras clave en el lugar equivocado."
   ]
  },
  {
   "cell_type": "code",
   "execution_count": 7,
   "metadata": {},
   "outputs": [
    {
     "ename": "IndentationError",
     "evalue": "unexpected indent (2124005073.py, line 3)",
     "output_type": "error",
     "traceback": [
      "\u001b[1;36m  Cell \u001b[1;32mIn[7], line 3\u001b[1;36m\u001b[0m\n\u001b[1;33m    print(\"Learn Python with us..\")\u001b[0m\n\u001b[1;37m    ^\u001b[0m\n\u001b[1;31mIndentationError\u001b[0m\u001b[1;31m:\u001b[0m unexpected indent\n"
     ]
    }
   ],
   "source": [
    "# Ejemplo\n",
    "print(\"Welcome to PYnative\")\n",
    "    print(\"Learn Python with us..\")"
   ]
  },
  {
   "cell_type": "markdown",
   "metadata": {},
   "source": [
    "Errores lógicos (excepción)\n",
    "Incluso si una instrucción o expresión es sintácticamente correcta, el error que se produce en tiempo de ejecución se conoce como error lógico o excepción. En otras palabras, los errores detectados durante la ejecución se denominan excepciones.\n",
    "\n",
    "Errores lógicos comunes de Python:\n",
    "\n",
    "Sangría de un bloque al nivel incorrecto\n",
    "Usar el nombre de variable incorrecto\n",
    "Cometer un error en una expresión booleana# "
   ]
  },
  {
   "cell_type": "code",
   "execution_count": null,
   "metadata": {},
   "outputs": [
    {
     "ename": "NameError",
     "evalue": "name 'c' is not defined",
     "output_type": "error",
     "traceback": [
      "\u001b[1;31m---------------------------------------------------------------------------\u001b[0m",
      "\u001b[1;31mNameError\u001b[0m                                 Traceback (most recent call last)",
      "Cell \u001b[1;32mIn[2], line 4\u001b[0m\n\u001b[0;32m      2\u001b[0m a \u001b[38;5;241m=\u001b[39m \u001b[38;5;241m10\u001b[39m\n\u001b[0;32m      3\u001b[0m b \u001b[38;5;241m=\u001b[39m \u001b[38;5;241m20\u001b[39m\n\u001b[1;32m----> 4\u001b[0m \u001b[38;5;28mprint\u001b[39m(\u001b[38;5;124m\"\u001b[39m\u001b[38;5;124mAddition:\u001b[39m\u001b[38;5;124m\"\u001b[39m, a \u001b[38;5;241m+\u001b[39m \u001b[43mc\u001b[49m)\n",
      "\u001b[1;31mNameError\u001b[0m: name 'c' is not defined"
     ]
    }
   ],
   "source": [
    "# Ejemplo\n",
    "a = 10\n",
    "b = 20\n",
    "print(\"Addition:\", a + c)"
   ]
  },
  {
   "cell_type": "markdown",
   "metadata": {},
   "source": [
    "# Excepciones integradas\n",
    "En la tabla siguiente se muestran diferentes excepciones integradas.\n",
    "\n",
    "Python genera automáticamente muchas excepciones y errores. Excepciones en tiempo de ejecución, generalmente como resultado de errores de programación, como:\n",
    "\n",
    "Lectura de un archivo que no está presente\n",
    "Intentar leer datos fuera del índice disponible de una lista\n",
    "Dividir un valor entero por cero"
   ]
  },
  {
   "cell_type": "markdown",
   "metadata": {},
   "source": [
    "![Texto alternativo](\\img\\level.jpg)"
   ]
  }
 ],
 "metadata": {
  "kernelspec": {
   "display_name": "Python 3",
   "language": "python",
   "name": "python3"
  },
  "language_info": {
   "codemirror_mode": {
    "name": "ipython",
    "version": 3
   },
   "file_extension": ".py",
   "mimetype": "text/x-python",
   "name": "python",
   "nbconvert_exporter": "python",
   "pygments_lexer": "ipython3",
   "version": "3.11.9"
  }
 },
 "nbformat": 4,
 "nbformat_minor": 2
}
